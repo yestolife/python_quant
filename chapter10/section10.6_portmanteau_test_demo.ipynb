{
 "metadata": {
  "language_info": {
   "codemirror_mode": {
    "name": "ipython",
    "version": 3
   },
   "file_extension": ".py",
   "mimetype": "text/x-python",
   "name": "python",
   "nbconvert_exporter": "python",
   "pygments_lexer": "ipython3",
   "version": "3.8.5-final"
  },
  "orig_nbformat": 2,
  "kernelspec": {
   "name": "python3",
   "display_name": "Python 3.8.5 64-bit (conda)",
   "metadata": {
    "interpreter": {
     "hash": "ab2c6effcff14de217321fbbb614bff3794ce5785c4964fdaa7bfe00a73c95ca"
    }
   }
  }
 },
 "nbformat": 4,
 "nbformat_minor": 2,
 "cells": [
  {
   "cell_type": "code",
   "execution_count": 2,
   "metadata": {},
   "outputs": [
    {
     "output_type": "stream",
     "name": "stdout",
     "text": [
      "本接口即将停止更新，请尽快使用Pro版接口：https://waditu.com/document/2\n",
      "D:\\Users\\Andy\\anaconda3\\lib\\site-packages\\statsmodels\\tsa\\stattools.py:662: FutureWarning: fft=True will become the default after the release of the 0.12 release of statsmodels. To suppress this warning, explicitly set fft=False.\n",
      "  warnings.warn(\n"
     ]
    },
    {
     "output_type": "execute_result",
     "data": {
      "text/plain": [
       "            AC          Q   P-value\n",
       "lag                                \n",
       "1.0  -0.178514   7.839777  0.005111\n",
       "2.0   0.156326  13.876707  0.000970\n",
       "3.0  -0.099271  16.321298  0.000974\n",
       "4.0   0.056385  17.113263  0.001837\n",
       "5.0  -0.166990  24.088764  0.000209\n",
       "6.0  -0.026627  24.266859  0.000466\n",
       "7.0   0.002090  24.267962  0.001022\n",
       "8.0   0.000263  24.267979  0.002066\n",
       "9.0   0.116595  27.726689  0.001059\n",
       "10.0 -0.006233  27.736615  0.001989"
      ],
      "text/html": "<div>\n<style scoped>\n    .dataframe tbody tr th:only-of-type {\n        vertical-align: middle;\n    }\n\n    .dataframe tbody tr th {\n        vertical-align: top;\n    }\n\n    .dataframe thead th {\n        text-align: right;\n    }\n</style>\n<table border=\"1\" class=\"dataframe\">\n  <thead>\n    <tr style=\"text-align: right;\">\n      <th></th>\n      <th>AC</th>\n      <th>Q</th>\n      <th>P-value</th>\n    </tr>\n    <tr>\n      <th>lag</th>\n      <th></th>\n      <th></th>\n      <th></th>\n    </tr>\n  </thead>\n  <tbody>\n    <tr>\n      <th>1.0</th>\n      <td>-0.178514</td>\n      <td>7.839777</td>\n      <td>0.005111</td>\n    </tr>\n    <tr>\n      <th>2.0</th>\n      <td>0.156326</td>\n      <td>13.876707</td>\n      <td>0.000970</td>\n    </tr>\n    <tr>\n      <th>3.0</th>\n      <td>-0.099271</td>\n      <td>16.321298</td>\n      <td>0.000974</td>\n    </tr>\n    <tr>\n      <th>4.0</th>\n      <td>0.056385</td>\n      <td>17.113263</td>\n      <td>0.001837</td>\n    </tr>\n    <tr>\n      <th>5.0</th>\n      <td>-0.166990</td>\n      <td>24.088764</td>\n      <td>0.000209</td>\n    </tr>\n    <tr>\n      <th>6.0</th>\n      <td>-0.026627</td>\n      <td>24.266859</td>\n      <td>0.000466</td>\n    </tr>\n    <tr>\n      <th>7.0</th>\n      <td>0.002090</td>\n      <td>24.267962</td>\n      <td>0.001022</td>\n    </tr>\n    <tr>\n      <th>8.0</th>\n      <td>0.000263</td>\n      <td>24.267979</td>\n      <td>0.002066</td>\n    </tr>\n    <tr>\n      <th>9.0</th>\n      <td>0.116595</td>\n      <td>27.726689</td>\n      <td>0.001059</td>\n    </tr>\n    <tr>\n      <th>10.0</th>\n      <td>-0.006233</td>\n      <td>27.736615</td>\n      <td>0.001989</td>\n    </tr>\n  </tbody>\n</table>\n</div>"
     },
     "metadata": {},
     "execution_count": 2
    }
   ],
   "source": [
    "import pandas as pd \n",
    "import numpy as np \n",
    "from scipy import stats \n",
    "import statsmodels.api as sm \n",
    "import tushare as ts \n",
    "\n",
    "df = ts.get_k_data('399300', index=True, start = '2016-01-01', end = '2016-12-31')\n",
    "\n",
    "df['rtn'] = np.log(df['close']) - np.log(df['close'].shift(1))\n",
    "df = df.dropna()\n",
    "\n",
    "m = 10\n",
    "acf, q, p = sm.tsa.acf(df['rtn'], nlags = m, qstat=True)\n",
    "out = np.c_[range(1, 11), acf[1:], q, p]\n",
    "output = pd.DataFrame(out, columns=['lag', 'AC', 'Q', 'P-value'])\n",
    "output = output.set_index('lag')\n",
    "output\n"
   ]
  }
 ]
}