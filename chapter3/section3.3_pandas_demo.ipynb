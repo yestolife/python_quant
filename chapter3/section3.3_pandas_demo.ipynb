{
 "metadata": {
  "language_info": {
   "codemirror_mode": {
    "name": "ipython",
    "version": 3
   },
   "file_extension": ".py",
   "mimetype": "text/x-python",
   "name": "python",
   "nbconvert_exporter": "python",
   "pygments_lexer": "ipython3",
   "version": "3.8.5-final"
  },
  "orig_nbformat": 2,
  "kernelspec": {
   "name": "python3",
   "display_name": "Python 3.8.5 64-bit (conda)",
   "metadata": {
    "interpreter": {
     "hash": "ab2c6effcff14de217321fbbb614bff3794ce5785c4964fdaa7bfe00a73c95ca"
    }
   }
  }
 },
 "nbformat": 4,
 "nbformat_minor": 2,
 "cells": [
  {
   "cell_type": "code",
   "execution_count": 1,
   "metadata": {},
   "outputs": [],
   "source": [
    "import pandas as pd \n"
   ]
  },
  {
   "cell_type": "code",
   "execution_count": 2,
   "metadata": {},
   "outputs": [
    {
     "output_type": "execute_result",
     "data": {
      "text/plain": [
       "   A     B   C\n",
       "a  x  1000  10\n",
       "b  y  2000  20\n",
       "c  z  3000  30"
      ],
      "text/html": "<div>\n<style scoped>\n    .dataframe tbody tr th:only-of-type {\n        vertical-align: middle;\n    }\n\n    .dataframe tbody tr th {\n        vertical-align: top;\n    }\n\n    .dataframe thead th {\n        text-align: right;\n    }\n</style>\n<table border=\"1\" class=\"dataframe\">\n  <thead>\n    <tr style=\"text-align: right;\">\n      <th></th>\n      <th>A</th>\n      <th>B</th>\n      <th>C</th>\n    </tr>\n  </thead>\n  <tbody>\n    <tr>\n      <th>a</th>\n      <td>x</td>\n      <td>1000</td>\n      <td>10</td>\n    </tr>\n    <tr>\n      <th>b</th>\n      <td>y</td>\n      <td>2000</td>\n      <td>20</td>\n    </tr>\n    <tr>\n      <th>c</th>\n      <td>z</td>\n      <td>3000</td>\n      <td>30</td>\n    </tr>\n  </tbody>\n</table>\n</div>"
     },
     "metadata": {},
     "execution_count": 2
    }
   ],
   "source": [
    "data = {'A':['x', 'y', 'z'], 'B':[1000,2000,3000], 'C':[10, 20, 30]}\n",
    "df = pd.DataFrame(data, index=['a', 'b', 'c'])\n",
    "df"
   ]
  },
  {
   "cell_type": "code",
   "execution_count": 3,
   "metadata": {},
   "outputs": [
    {
     "output_type": "execute_result",
     "data": {
      "text/plain": [
       "array([['x', 1000, 10],\n",
       "       ['y', 2000, 20],\n",
       "       ['z', 3000, 30]], dtype=object)"
      ]
     },
     "metadata": {},
     "execution_count": 3
    }
   ],
   "source": [
    "df.values"
   ]
  },
  {
   "cell_type": "code",
   "execution_count": 4,
   "metadata": {},
   "outputs": [
    {
     "output_type": "execute_result",
     "data": {
      "text/plain": [
       "Index(['a', 'b', 'c'], dtype='object')"
      ]
     },
     "metadata": {},
     "execution_count": 4
    }
   ],
   "source": [
    "df.index"
   ]
  },
  {
   "cell_type": "code",
   "execution_count": 5,
   "metadata": {},
   "outputs": [
    {
     "output_type": "execute_result",
     "data": {
      "text/plain": [
       "Index(['A', 'B', 'C'], dtype='object')"
      ]
     },
     "metadata": {},
     "execution_count": 5
    }
   ],
   "source": [
    "df.columns"
   ]
  },
  {
   "cell_type": "code",
   "execution_count": 7,
   "metadata": {},
   "outputs": [
    {
     "output_type": "execute_result",
     "data": {
      "text/plain": [
       "    C     B  A\n",
       "a  10  1000  x\n",
       "b  20  2000  y\n",
       "c  30  3000  z"
      ],
      "text/html": "<div>\n<style scoped>\n    .dataframe tbody tr th:only-of-type {\n        vertical-align: middle;\n    }\n\n    .dataframe tbody tr th {\n        vertical-align: top;\n    }\n\n    .dataframe thead th {\n        text-align: right;\n    }\n</style>\n<table border=\"1\" class=\"dataframe\">\n  <thead>\n    <tr style=\"text-align: right;\">\n      <th></th>\n      <th>C</th>\n      <th>B</th>\n      <th>A</th>\n    </tr>\n  </thead>\n  <tbody>\n    <tr>\n      <th>a</th>\n      <td>10</td>\n      <td>1000</td>\n      <td>x</td>\n    </tr>\n    <tr>\n      <th>b</th>\n      <td>20</td>\n      <td>2000</td>\n      <td>y</td>\n    </tr>\n    <tr>\n      <th>c</th>\n      <td>30</td>\n      <td>3000</td>\n      <td>z</td>\n    </tr>\n  </tbody>\n</table>\n</div>"
     },
     "metadata": {},
     "execution_count": 7
    }
   ],
   "source": [
    "df = pd.DataFrame(data, columns=['C','B','A'], index=['a', 'b', 'c'])\n",
    "df "
   ]
  },
  {
   "cell_type": "code",
   "execution_count": 8,
   "metadata": {},
   "outputs": [
    {
     "output_type": "execute_result",
     "data": {
      "text/plain": [
       "    C     B  A   D\n",
       "a  10  1000  x  10\n",
       "b  20  2000  y  10\n",
       "c  30  3000  z  10"
      ],
      "text/html": "<div>\n<style scoped>\n    .dataframe tbody tr th:only-of-type {\n        vertical-align: middle;\n    }\n\n    .dataframe tbody tr th {\n        vertical-align: top;\n    }\n\n    .dataframe thead th {\n        text-align: right;\n    }\n</style>\n<table border=\"1\" class=\"dataframe\">\n  <thead>\n    <tr style=\"text-align: right;\">\n      <th></th>\n      <th>C</th>\n      <th>B</th>\n      <th>A</th>\n      <th>D</th>\n    </tr>\n  </thead>\n  <tbody>\n    <tr>\n      <th>a</th>\n      <td>10</td>\n      <td>1000</td>\n      <td>x</td>\n      <td>10</td>\n    </tr>\n    <tr>\n      <th>b</th>\n      <td>20</td>\n      <td>2000</td>\n      <td>y</td>\n      <td>10</td>\n    </tr>\n    <tr>\n      <th>c</th>\n      <td>30</td>\n      <td>3000</td>\n      <td>z</td>\n      <td>10</td>\n    </tr>\n  </tbody>\n</table>\n</div>"
     },
     "metadata": {},
     "execution_count": 8
    }
   ],
   "source": [
    "df['D'] = 10\n",
    "df"
   ]
  },
  {
   "cell_type": "code",
   "execution_count": 9,
   "metadata": {},
   "outputs": [
    {
     "output_type": "execute_result",
     "data": {
      "text/plain": [
       "    C     B  A\n",
       "a  10  1000  x\n",
       "b  20  2000  y\n",
       "c  30  3000  z"
      ],
      "text/html": "<div>\n<style scoped>\n    .dataframe tbody tr th:only-of-type {\n        vertical-align: middle;\n    }\n\n    .dataframe tbody tr th {\n        vertical-align: top;\n    }\n\n    .dataframe thead th {\n        text-align: right;\n    }\n</style>\n<table border=\"1\" class=\"dataframe\">\n  <thead>\n    <tr style=\"text-align: right;\">\n      <th></th>\n      <th>C</th>\n      <th>B</th>\n      <th>A</th>\n    </tr>\n  </thead>\n  <tbody>\n    <tr>\n      <th>a</th>\n      <td>10</td>\n      <td>1000</td>\n      <td>x</td>\n    </tr>\n    <tr>\n      <th>b</th>\n      <td>20</td>\n      <td>2000</td>\n      <td>y</td>\n    </tr>\n    <tr>\n      <th>c</th>\n      <td>30</td>\n      <td>3000</td>\n      <td>z</td>\n    </tr>\n  </tbody>\n</table>\n</div>"
     },
     "metadata": {},
     "execution_count": 9
    }
   ],
   "source": [
    "del df['D']\n",
    "df"
   ]
  },
  {
   "cell_type": "code",
   "execution_count": 13,
   "metadata": {},
   "outputs": [
    {
     "output_type": "execute_result",
     "data": {
      "text/plain": [
       "    C     B    A\n",
       "a  10  1000    x\n",
       "b  20  2000    y\n",
       "c  30  3000    z\n",
       "d  40  4000  new"
      ],
      "text/html": "<div>\n<style scoped>\n    .dataframe tbody tr th:only-of-type {\n        vertical-align: middle;\n    }\n\n    .dataframe tbody tr th {\n        vertical-align: top;\n    }\n\n    .dataframe thead th {\n        text-align: right;\n    }\n</style>\n<table border=\"1\" class=\"dataframe\">\n  <thead>\n    <tr style=\"text-align: right;\">\n      <th></th>\n      <th>C</th>\n      <th>B</th>\n      <th>A</th>\n    </tr>\n  </thead>\n  <tbody>\n    <tr>\n      <th>a</th>\n      <td>10</td>\n      <td>1000</td>\n      <td>x</td>\n    </tr>\n    <tr>\n      <th>b</th>\n      <td>20</td>\n      <td>2000</td>\n      <td>y</td>\n    </tr>\n    <tr>\n      <th>c</th>\n      <td>30</td>\n      <td>3000</td>\n      <td>z</td>\n    </tr>\n    <tr>\n      <th>d</th>\n      <td>40</td>\n      <td>4000</td>\n      <td>new</td>\n    </tr>\n  </tbody>\n</table>\n</div>"
     },
     "metadata": {},
     "execution_count": 13
    }
   ],
   "source": [
    "new_df = pd.DataFrame({'A':'new', 'B':4000, 'C':40}, index=['d'])\n",
    "df = df.append(new_df)\n",
    "df"
   ]
  },
  {
   "cell_type": "code",
   "execution_count": 14,
   "metadata": {},
   "outputs": [
    {
     "output_type": "execute_result",
     "data": {
      "text/plain": [
       "      C     B    A\n",
       "a    10  1000    x\n",
       "b    20  2000    y\n",
       "c    30  3000    z\n",
       "d    40  4000  new\n",
       "e  new2  5000   50"
      ],
      "text/html": "<div>\n<style scoped>\n    .dataframe tbody tr th:only-of-type {\n        vertical-align: middle;\n    }\n\n    .dataframe tbody tr th {\n        vertical-align: top;\n    }\n\n    .dataframe thead th {\n        text-align: right;\n    }\n</style>\n<table border=\"1\" class=\"dataframe\">\n  <thead>\n    <tr style=\"text-align: right;\">\n      <th></th>\n      <th>C</th>\n      <th>B</th>\n      <th>A</th>\n    </tr>\n  </thead>\n  <tbody>\n    <tr>\n      <th>a</th>\n      <td>10</td>\n      <td>1000</td>\n      <td>x</td>\n    </tr>\n    <tr>\n      <th>b</th>\n      <td>20</td>\n      <td>2000</td>\n      <td>y</td>\n    </tr>\n    <tr>\n      <th>c</th>\n      <td>30</td>\n      <td>3000</td>\n      <td>z</td>\n    </tr>\n    <tr>\n      <th>d</th>\n      <td>40</td>\n      <td>4000</td>\n      <td>new</td>\n    </tr>\n    <tr>\n      <th>e</th>\n      <td>new2</td>\n      <td>5000</td>\n      <td>50</td>\n    </tr>\n  </tbody>\n</table>\n</div>"
     },
     "metadata": {},
     "execution_count": 14
    }
   ],
   "source": [
    "df.loc['e'] = ['new2', 5000, 50]\n",
    "df"
   ]
  },
  {
   "cell_type": "code",
   "execution_count": 24,
   "metadata": {},
   "outputs": [
    {
     "output_type": "execute_result",
     "data": {
      "text/plain": [
       "   E\n",
       "a  1\n",
       "b  2\n",
       "c  3\n",
       "d  4\n",
       "e  5"
      ],
      "text/html": "<div>\n<style scoped>\n    .dataframe tbody tr th:only-of-type {\n        vertical-align: middle;\n    }\n\n    .dataframe tbody tr th {\n        vertical-align: top;\n    }\n\n    .dataframe thead th {\n        text-align: right;\n    }\n</style>\n<table border=\"1\" class=\"dataframe\">\n  <thead>\n    <tr style=\"text-align: right;\">\n      <th></th>\n      <th>E</th>\n    </tr>\n  </thead>\n  <tbody>\n    <tr>\n      <th>a</th>\n      <td>1</td>\n    </tr>\n    <tr>\n      <th>b</th>\n      <td>2</td>\n    </tr>\n    <tr>\n      <th>c</th>\n      <td>3</td>\n    </tr>\n    <tr>\n      <th>d</th>\n      <td>4</td>\n    </tr>\n    <tr>\n      <th>e</th>\n      <td>5</td>\n    </tr>\n  </tbody>\n</table>\n</div>"
     },
     "metadata": {},
     "execution_count": 24
    }
   ],
   "source": [
    "df2 = pd.DataFrame([1,2,3,4,5], index=['a', 'b', 'c', 'd', 'e'], columns=['E'])\n",
    "df2"
   ]
  },
  {
   "cell_type": "code",
   "execution_count": 41,
   "metadata": {},
   "outputs": [
    {
     "output_type": "execute_result",
     "data": {
      "text/plain": [
       "      C     B    A  E\n",
       "a    10  1000    x  1\n",
       "b    20  2000    y  2\n",
       "c    30  3000    z  3\n",
       "d    40  4000  new  4\n",
       "e  new2  5000   50  5"
      ],
      "text/html": "<div>\n<style scoped>\n    .dataframe tbody tr th:only-of-type {\n        vertical-align: middle;\n    }\n\n    .dataframe tbody tr th {\n        vertical-align: top;\n    }\n\n    .dataframe thead th {\n        text-align: right;\n    }\n</style>\n<table border=\"1\" class=\"dataframe\">\n  <thead>\n    <tr style=\"text-align: right;\">\n      <th></th>\n      <th>C</th>\n      <th>B</th>\n      <th>A</th>\n      <th>E</th>\n    </tr>\n  </thead>\n  <tbody>\n    <tr>\n      <th>a</th>\n      <td>10</td>\n      <td>1000</td>\n      <td>x</td>\n      <td>1</td>\n    </tr>\n    <tr>\n      <th>b</th>\n      <td>20</td>\n      <td>2000</td>\n      <td>y</td>\n      <td>2</td>\n    </tr>\n    <tr>\n      <th>c</th>\n      <td>30</td>\n      <td>3000</td>\n      <td>z</td>\n      <td>3</td>\n    </tr>\n    <tr>\n      <th>d</th>\n      <td>40</td>\n      <td>4000</td>\n      <td>new</td>\n      <td>4</td>\n    </tr>\n    <tr>\n      <th>e</th>\n      <td>new2</td>\n      <td>5000</td>\n      <td>50</td>\n      <td>5</td>\n    </tr>\n  </tbody>\n</table>\n</div>"
     },
     "metadata": {},
     "execution_count": 41
    }
   ],
   "source": [
    "df = df.join(df2)\n",
    "df"
   ]
  },
  {
   "cell_type": "code",
   "execution_count": 43,
   "metadata": {},
   "outputs": [
    {
     "output_type": "execute_result",
     "data": {
      "text/plain": [
       "DatetimeIndex(['2021-03-11', '2021-03-12', '2021-03-13', '2021-03-14',\n",
       "               '2021-03-15', '2021-03-16', '2021-03-17', '2021-03-18'],\n",
       "              dtype='datetime64[ns]', freq='D')"
      ]
     },
     "metadata": {},
     "execution_count": 43
    }
   ],
   "source": [
    "datas = pd.date_range('20210311', periods = 8)\n",
    "datas"
   ]
  },
  {
   "cell_type": "code",
   "execution_count": 44,
   "metadata": {},
   "outputs": [
    {
     "output_type": "execute_result",
     "data": {
      "text/plain": [
       "                   A         B         C         D\n",
       "2021-03-11 -0.112320  0.955334 -0.009008 -0.217576\n",
       "2021-03-12 -0.747902  0.363128 -0.345154  0.167037\n",
       "2021-03-13 -0.398955  0.339142  0.264229  0.518604\n",
       "2021-03-14  1.131041  0.526505  0.941288 -0.034716\n",
       "2021-03-15 -0.371742  1.269623 -0.530221  0.828295\n",
       "2021-03-16 -0.318717 -1.125820  0.534134  0.257496\n",
       "2021-03-17 -0.766795  0.650279  1.445453  1.411669\n",
       "2021-03-18 -0.914639 -0.646133  0.030634 -0.647286"
      ],
      "text/html": "<div>\n<style scoped>\n    .dataframe tbody tr th:only-of-type {\n        vertical-align: middle;\n    }\n\n    .dataframe tbody tr th {\n        vertical-align: top;\n    }\n\n    .dataframe thead th {\n        text-align: right;\n    }\n</style>\n<table border=\"1\" class=\"dataframe\">\n  <thead>\n    <tr style=\"text-align: right;\">\n      <th></th>\n      <th>A</th>\n      <th>B</th>\n      <th>C</th>\n      <th>D</th>\n    </tr>\n  </thead>\n  <tbody>\n    <tr>\n      <th>2021-03-11</th>\n      <td>-0.112320</td>\n      <td>0.955334</td>\n      <td>-0.009008</td>\n      <td>-0.217576</td>\n    </tr>\n    <tr>\n      <th>2021-03-12</th>\n      <td>-0.747902</td>\n      <td>0.363128</td>\n      <td>-0.345154</td>\n      <td>0.167037</td>\n    </tr>\n    <tr>\n      <th>2021-03-13</th>\n      <td>-0.398955</td>\n      <td>0.339142</td>\n      <td>0.264229</td>\n      <td>0.518604</td>\n    </tr>\n    <tr>\n      <th>2021-03-14</th>\n      <td>1.131041</td>\n      <td>0.526505</td>\n      <td>0.941288</td>\n      <td>-0.034716</td>\n    </tr>\n    <tr>\n      <th>2021-03-15</th>\n      <td>-0.371742</td>\n      <td>1.269623</td>\n      <td>-0.530221</td>\n      <td>0.828295</td>\n    </tr>\n    <tr>\n      <th>2021-03-16</th>\n      <td>-0.318717</td>\n      <td>-1.125820</td>\n      <td>0.534134</td>\n      <td>0.257496</td>\n    </tr>\n    <tr>\n      <th>2021-03-17</th>\n      <td>-0.766795</td>\n      <td>0.650279</td>\n      <td>1.445453</td>\n      <td>1.411669</td>\n    </tr>\n    <tr>\n      <th>2021-03-18</th>\n      <td>-0.914639</td>\n      <td>-0.646133</td>\n      <td>0.030634</td>\n      <td>-0.647286</td>\n    </tr>\n  </tbody>\n</table>\n</div>"
     },
     "metadata": {},
     "execution_count": 44
    }
   ],
   "source": [
    "import numpy as np\n",
    "df = pd.DataFrame(np.random.randn(8, 4), index=datas, columns=list('ABCD'))\n",
    "df"
   ]
  },
  {
   "cell_type": "code",
   "execution_count": 46,
   "metadata": {},
   "outputs": [
    {
     "output_type": "execute_result",
     "data": {
      "text/plain": [
       "A   -2.500029\n",
       "B    2.332060\n",
       "C    2.331356\n",
       "D    2.283523\n",
       "dtype: float64"
      ]
     },
     "metadata": {},
     "execution_count": 46
    }
   ],
   "source": [
    "df.sum()"
   ]
  },
  {
   "cell_type": "code",
   "execution_count": 47,
   "metadata": {},
   "outputs": [
    {
     "output_type": "execute_result",
     "data": {
      "text/plain": [
       "A   -0.312504\n",
       "B    0.291507\n",
       "C    0.291420\n",
       "D    0.285440\n",
       "dtype: float64"
      ]
     },
     "metadata": {},
     "execution_count": 47
    }
   ],
   "source": [
    "df.mean()"
   ]
  },
  {
   "cell_type": "code",
   "execution_count": 48,
   "metadata": {},
   "outputs": [
    {
     "output_type": "execute_result",
     "data": {
      "text/plain": [
       "                   A         B         C         D\n",
       "2021-03-11 -0.112320  0.955334 -0.009008 -0.217576\n",
       "2021-03-12 -0.860222  1.318462 -0.354162 -0.050539\n",
       "2021-03-13 -1.259177  1.657605 -0.089933  0.468065\n",
       "2021-03-14 -0.128137  2.184110  0.851356  0.433349\n",
       "2021-03-15 -0.499879  3.453733  0.321135  1.261643\n",
       "2021-03-16 -0.818595  2.327913  0.855269  1.519139\n",
       "2021-03-17 -1.585390  2.978193  2.300723  2.930809\n",
       "2021-03-18 -2.500029  2.332060  2.331356  2.283523"
      ],
      "text/html": "<div>\n<style scoped>\n    .dataframe tbody tr th:only-of-type {\n        vertical-align: middle;\n    }\n\n    .dataframe tbody tr th {\n        vertical-align: top;\n    }\n\n    .dataframe thead th {\n        text-align: right;\n    }\n</style>\n<table border=\"1\" class=\"dataframe\">\n  <thead>\n    <tr style=\"text-align: right;\">\n      <th></th>\n      <th>A</th>\n      <th>B</th>\n      <th>C</th>\n      <th>D</th>\n    </tr>\n  </thead>\n  <tbody>\n    <tr>\n      <th>2021-03-11</th>\n      <td>-0.112320</td>\n      <td>0.955334</td>\n      <td>-0.009008</td>\n      <td>-0.217576</td>\n    </tr>\n    <tr>\n      <th>2021-03-12</th>\n      <td>-0.860222</td>\n      <td>1.318462</td>\n      <td>-0.354162</td>\n      <td>-0.050539</td>\n    </tr>\n    <tr>\n      <th>2021-03-13</th>\n      <td>-1.259177</td>\n      <td>1.657605</td>\n      <td>-0.089933</td>\n      <td>0.468065</td>\n    </tr>\n    <tr>\n      <th>2021-03-14</th>\n      <td>-0.128137</td>\n      <td>2.184110</td>\n      <td>0.851356</td>\n      <td>0.433349</td>\n    </tr>\n    <tr>\n      <th>2021-03-15</th>\n      <td>-0.499879</td>\n      <td>3.453733</td>\n      <td>0.321135</td>\n      <td>1.261643</td>\n    </tr>\n    <tr>\n      <th>2021-03-16</th>\n      <td>-0.818595</td>\n      <td>2.327913</td>\n      <td>0.855269</td>\n      <td>1.519139</td>\n    </tr>\n    <tr>\n      <th>2021-03-17</th>\n      <td>-1.585390</td>\n      <td>2.978193</td>\n      <td>2.300723</td>\n      <td>2.930809</td>\n    </tr>\n    <tr>\n      <th>2021-03-18</th>\n      <td>-2.500029</td>\n      <td>2.332060</td>\n      <td>2.331356</td>\n      <td>2.283523</td>\n    </tr>\n  </tbody>\n</table>\n</div>"
     },
     "metadata": {},
     "execution_count": 48
    }
   ],
   "source": [
    "df.cumsum()"
   ]
  },
  {
   "cell_type": "code",
   "execution_count": 49,
   "metadata": {},
   "outputs": [
    {
     "output_type": "execute_result",
     "data": {
      "text/plain": [
       "              A         B         C         D\n",
       "count  8.000000  8.000000  8.000000  8.000000\n",
       "mean  -0.312504  0.291507  0.291420  0.285440\n",
       "std    0.642921  0.799706  0.660342  0.638945\n",
       "min   -0.914639 -1.125820 -0.530221 -0.647286\n",
       "25%   -0.752625  0.092824 -0.093045 -0.080431\n",
       "50%   -0.385348  0.444817  0.147431  0.212267\n",
       "75%   -0.267118  0.726543  0.635923  0.596027\n",
       "max    1.131041  1.269623  1.445453  1.411669"
      ],
      "text/html": "<div>\n<style scoped>\n    .dataframe tbody tr th:only-of-type {\n        vertical-align: middle;\n    }\n\n    .dataframe tbody tr th {\n        vertical-align: top;\n    }\n\n    .dataframe thead th {\n        text-align: right;\n    }\n</style>\n<table border=\"1\" class=\"dataframe\">\n  <thead>\n    <tr style=\"text-align: right;\">\n      <th></th>\n      <th>A</th>\n      <th>B</th>\n      <th>C</th>\n      <th>D</th>\n    </tr>\n  </thead>\n  <tbody>\n    <tr>\n      <th>count</th>\n      <td>8.000000</td>\n      <td>8.000000</td>\n      <td>8.000000</td>\n      <td>8.000000</td>\n    </tr>\n    <tr>\n      <th>mean</th>\n      <td>-0.312504</td>\n      <td>0.291507</td>\n      <td>0.291420</td>\n      <td>0.285440</td>\n    </tr>\n    <tr>\n      <th>std</th>\n      <td>0.642921</td>\n      <td>0.799706</td>\n      <td>0.660342</td>\n      <td>0.638945</td>\n    </tr>\n    <tr>\n      <th>min</th>\n      <td>-0.914639</td>\n      <td>-1.125820</td>\n      <td>-0.530221</td>\n      <td>-0.647286</td>\n    </tr>\n    <tr>\n      <th>25%</th>\n      <td>-0.752625</td>\n      <td>0.092824</td>\n      <td>-0.093045</td>\n      <td>-0.080431</td>\n    </tr>\n    <tr>\n      <th>50%</th>\n      <td>-0.385348</td>\n      <td>0.444817</td>\n      <td>0.147431</td>\n      <td>0.212267</td>\n    </tr>\n    <tr>\n      <th>75%</th>\n      <td>-0.267118</td>\n      <td>0.726543</td>\n      <td>0.635923</td>\n      <td>0.596027</td>\n    </tr>\n    <tr>\n      <th>max</th>\n      <td>1.131041</td>\n      <td>1.269623</td>\n      <td>1.445453</td>\n      <td>1.411669</td>\n    </tr>\n  </tbody>\n</table>\n</div>"
     },
     "metadata": {},
     "execution_count": 49
    }
   ],
   "source": [
    "df.describe()"
   ]
  },
  {
   "cell_type": "code",
   "execution_count": 50,
   "metadata": {},
   "outputs": [
    {
     "output_type": "execute_result",
     "data": {
      "text/plain": [
       "                   A         B         C         D\n",
       "2021-03-18 -0.914639 -0.646133  0.030634 -0.647286\n",
       "2021-03-17 -0.766795  0.650279  1.445453  1.411669\n",
       "2021-03-12 -0.747902  0.363128 -0.345154  0.167037\n",
       "2021-03-13 -0.398955  0.339142  0.264229  0.518604\n",
       "2021-03-15 -0.371742  1.269623 -0.530221  0.828295\n",
       "2021-03-16 -0.318717 -1.125820  0.534134  0.257496\n",
       "2021-03-11 -0.112320  0.955334 -0.009008 -0.217576\n",
       "2021-03-14  1.131041  0.526505  0.941288 -0.034716"
      ],
      "text/html": "<div>\n<style scoped>\n    .dataframe tbody tr th:only-of-type {\n        vertical-align: middle;\n    }\n\n    .dataframe tbody tr th {\n        vertical-align: top;\n    }\n\n    .dataframe thead th {\n        text-align: right;\n    }\n</style>\n<table border=\"1\" class=\"dataframe\">\n  <thead>\n    <tr style=\"text-align: right;\">\n      <th></th>\n      <th>A</th>\n      <th>B</th>\n      <th>C</th>\n      <th>D</th>\n    </tr>\n  </thead>\n  <tbody>\n    <tr>\n      <th>2021-03-18</th>\n      <td>-0.914639</td>\n      <td>-0.646133</td>\n      <td>0.030634</td>\n      <td>-0.647286</td>\n    </tr>\n    <tr>\n      <th>2021-03-17</th>\n      <td>-0.766795</td>\n      <td>0.650279</td>\n      <td>1.445453</td>\n      <td>1.411669</td>\n    </tr>\n    <tr>\n      <th>2021-03-12</th>\n      <td>-0.747902</td>\n      <td>0.363128</td>\n      <td>-0.345154</td>\n      <td>0.167037</td>\n    </tr>\n    <tr>\n      <th>2021-03-13</th>\n      <td>-0.398955</td>\n      <td>0.339142</td>\n      <td>0.264229</td>\n      <td>0.518604</td>\n    </tr>\n    <tr>\n      <th>2021-03-15</th>\n      <td>-0.371742</td>\n      <td>1.269623</td>\n      <td>-0.530221</td>\n      <td>0.828295</td>\n    </tr>\n    <tr>\n      <th>2021-03-16</th>\n      <td>-0.318717</td>\n      <td>-1.125820</td>\n      <td>0.534134</td>\n      <td>0.257496</td>\n    </tr>\n    <tr>\n      <th>2021-03-11</th>\n      <td>-0.112320</td>\n      <td>0.955334</td>\n      <td>-0.009008</td>\n      <td>-0.217576</td>\n    </tr>\n    <tr>\n      <th>2021-03-14</th>\n      <td>1.131041</td>\n      <td>0.526505</td>\n      <td>0.941288</td>\n      <td>-0.034716</td>\n    </tr>\n  </tbody>\n</table>\n</div>"
     },
     "metadata": {},
     "execution_count": 50
    }
   ],
   "source": [
    "df.sort_values('A')"
   ]
  },
  {
   "cell_type": "code",
   "execution_count": 51,
   "metadata": {},
   "outputs": [
    {
     "output_type": "execute_result",
     "data": {
      "text/plain": [
       "                   A         B         C         D\n",
       "2021-03-18 -0.914639 -0.646133  0.030634 -0.647286\n",
       "2021-03-17 -0.766795  0.650279  1.445453  1.411669\n",
       "2021-03-16 -0.318717 -1.125820  0.534134  0.257496\n",
       "2021-03-15 -0.371742  1.269623 -0.530221  0.828295\n",
       "2021-03-14  1.131041  0.526505  0.941288 -0.034716\n",
       "2021-03-13 -0.398955  0.339142  0.264229  0.518604\n",
       "2021-03-12 -0.747902  0.363128 -0.345154  0.167037\n",
       "2021-03-11 -0.112320  0.955334 -0.009008 -0.217576"
      ],
      "text/html": "<div>\n<style scoped>\n    .dataframe tbody tr th:only-of-type {\n        vertical-align: middle;\n    }\n\n    .dataframe tbody tr th {\n        vertical-align: top;\n    }\n\n    .dataframe thead th {\n        text-align: right;\n    }\n</style>\n<table border=\"1\" class=\"dataframe\">\n  <thead>\n    <tr style=\"text-align: right;\">\n      <th></th>\n      <th>A</th>\n      <th>B</th>\n      <th>C</th>\n      <th>D</th>\n    </tr>\n  </thead>\n  <tbody>\n    <tr>\n      <th>2021-03-18</th>\n      <td>-0.914639</td>\n      <td>-0.646133</td>\n      <td>0.030634</td>\n      <td>-0.647286</td>\n    </tr>\n    <tr>\n      <th>2021-03-17</th>\n      <td>-0.766795</td>\n      <td>0.650279</td>\n      <td>1.445453</td>\n      <td>1.411669</td>\n    </tr>\n    <tr>\n      <th>2021-03-16</th>\n      <td>-0.318717</td>\n      <td>-1.125820</td>\n      <td>0.534134</td>\n      <td>0.257496</td>\n    </tr>\n    <tr>\n      <th>2021-03-15</th>\n      <td>-0.371742</td>\n      <td>1.269623</td>\n      <td>-0.530221</td>\n      <td>0.828295</td>\n    </tr>\n    <tr>\n      <th>2021-03-14</th>\n      <td>1.131041</td>\n      <td>0.526505</td>\n      <td>0.941288</td>\n      <td>-0.034716</td>\n    </tr>\n    <tr>\n      <th>2021-03-13</th>\n      <td>-0.398955</td>\n      <td>0.339142</td>\n      <td>0.264229</td>\n      <td>0.518604</td>\n    </tr>\n    <tr>\n      <th>2021-03-12</th>\n      <td>-0.747902</td>\n      <td>0.363128</td>\n      <td>-0.345154</td>\n      <td>0.167037</td>\n    </tr>\n    <tr>\n      <th>2021-03-11</th>\n      <td>-0.112320</td>\n      <td>0.955334</td>\n      <td>-0.009008</td>\n      <td>-0.217576</td>\n    </tr>\n  </tbody>\n</table>\n</div>"
     },
     "metadata": {},
     "execution_count": 51
    }
   ],
   "source": [
    "df.sort_index(ascending=False)"
   ]
  },
  {
   "cell_type": "code",
   "execution_count": 52,
   "metadata": {},
   "outputs": [
    {
     "output_type": "execute_result",
     "data": {
      "text/plain": [
       "2021-03-11   -0.112320\n",
       "2021-03-12   -0.747902\n",
       "2021-03-13   -0.398955\n",
       "2021-03-14    1.131041\n",
       "2021-03-15   -0.371742\n",
       "2021-03-16   -0.318717\n",
       "2021-03-17   -0.766795\n",
       "2021-03-18   -0.914639\n",
       "Freq: D, Name: A, dtype: float64"
      ]
     },
     "metadata": {},
     "execution_count": 52
    }
   ],
   "source": [
    "df['A']"
   ]
  },
  {
   "cell_type": "code",
   "execution_count": 53,
   "metadata": {},
   "outputs": [
    {
     "output_type": "execute_result",
     "data": {
      "text/plain": [
       "                   A         B         C         D\n",
       "2021-03-11 -0.112320  0.955334 -0.009008 -0.217576\n",
       "2021-03-12 -0.747902  0.363128 -0.345154  0.167037\n",
       "2021-03-13 -0.398955  0.339142  0.264229  0.518604\n",
       "2021-03-14  1.131041  0.526505  0.941288 -0.034716\n",
       "2021-03-15 -0.371742  1.269623 -0.530221  0.828295"
      ],
      "text/html": "<div>\n<style scoped>\n    .dataframe tbody tr th:only-of-type {\n        vertical-align: middle;\n    }\n\n    .dataframe tbody tr th {\n        vertical-align: top;\n    }\n\n    .dataframe thead th {\n        text-align: right;\n    }\n</style>\n<table border=\"1\" class=\"dataframe\">\n  <thead>\n    <tr style=\"text-align: right;\">\n      <th></th>\n      <th>A</th>\n      <th>B</th>\n      <th>C</th>\n      <th>D</th>\n    </tr>\n  </thead>\n  <tbody>\n    <tr>\n      <th>2021-03-11</th>\n      <td>-0.112320</td>\n      <td>0.955334</td>\n      <td>-0.009008</td>\n      <td>-0.217576</td>\n    </tr>\n    <tr>\n      <th>2021-03-12</th>\n      <td>-0.747902</td>\n      <td>0.363128</td>\n      <td>-0.345154</td>\n      <td>0.167037</td>\n    </tr>\n    <tr>\n      <th>2021-03-13</th>\n      <td>-0.398955</td>\n      <td>0.339142</td>\n      <td>0.264229</td>\n      <td>0.518604</td>\n    </tr>\n    <tr>\n      <th>2021-03-14</th>\n      <td>1.131041</td>\n      <td>0.526505</td>\n      <td>0.941288</td>\n      <td>-0.034716</td>\n    </tr>\n    <tr>\n      <th>2021-03-15</th>\n      <td>-0.371742</td>\n      <td>1.269623</td>\n      <td>-0.530221</td>\n      <td>0.828295</td>\n    </tr>\n  </tbody>\n</table>\n</div>"
     },
     "metadata": {},
     "execution_count": 53
    }
   ],
   "source": [
    "df[0:5]"
   ]
  },
  {
   "cell_type": "code",
   "execution_count": 56,
   "metadata": {},
   "outputs": [
    {
     "output_type": "execute_result",
     "data": {
      "text/plain": [
       "A   -0.112320\n",
       "B    0.955334\n",
       "C   -0.009008\n",
       "D   -0.217576\n",
       "Name: 2021-03-11 00:00:00, dtype: float64"
      ]
     },
     "metadata": {},
     "execution_count": 56
    }
   ],
   "source": [
    "df.loc[datas[0]]"
   ]
  },
  {
   "cell_type": "code",
   "execution_count": 57,
   "metadata": {},
   "outputs": [
    {
     "output_type": "execute_result",
     "data": {
      "text/plain": [
       "                   A         C\n",
       "2021-03-11 -0.112320 -0.009008\n",
       "2021-03-12 -0.747902 -0.345154\n",
       "2021-03-13 -0.398955  0.264229\n",
       "2021-03-14  1.131041  0.941288\n",
       "2021-03-15 -0.371742 -0.530221\n",
       "2021-03-16 -0.318717  0.534134\n",
       "2021-03-17 -0.766795  1.445453\n",
       "2021-03-18 -0.914639  0.030634"
      ],
      "text/html": "<div>\n<style scoped>\n    .dataframe tbody tr th:only-of-type {\n        vertical-align: middle;\n    }\n\n    .dataframe tbody tr th {\n        vertical-align: top;\n    }\n\n    .dataframe thead th {\n        text-align: right;\n    }\n</style>\n<table border=\"1\" class=\"dataframe\">\n  <thead>\n    <tr style=\"text-align: right;\">\n      <th></th>\n      <th>A</th>\n      <th>C</th>\n    </tr>\n  </thead>\n  <tbody>\n    <tr>\n      <th>2021-03-11</th>\n      <td>-0.112320</td>\n      <td>-0.009008</td>\n    </tr>\n    <tr>\n      <th>2021-03-12</th>\n      <td>-0.747902</td>\n      <td>-0.345154</td>\n    </tr>\n    <tr>\n      <th>2021-03-13</th>\n      <td>-0.398955</td>\n      <td>0.264229</td>\n    </tr>\n    <tr>\n      <th>2021-03-14</th>\n      <td>1.131041</td>\n      <td>0.941288</td>\n    </tr>\n    <tr>\n      <th>2021-03-15</th>\n      <td>-0.371742</td>\n      <td>-0.530221</td>\n    </tr>\n    <tr>\n      <th>2021-03-16</th>\n      <td>-0.318717</td>\n      <td>0.534134</td>\n    </tr>\n    <tr>\n      <th>2021-03-17</th>\n      <td>-0.766795</td>\n      <td>1.445453</td>\n    </tr>\n    <tr>\n      <th>2021-03-18</th>\n      <td>-0.914639</td>\n      <td>0.030634</td>\n    </tr>\n  </tbody>\n</table>\n</div>"
     },
     "metadata": {},
     "execution_count": 57
    }
   ],
   "source": [
    "df.loc[:, ['A', 'C']]"
   ]
  },
  {
   "cell_type": "code",
   "execution_count": 58,
   "metadata": {},
   "outputs": [
    {
     "output_type": "execute_result",
     "data": {
      "text/plain": [
       "                   A         C\n",
       "2021-03-11 -0.112320 -0.009008\n",
       "2021-03-12 -0.747902 -0.345154\n",
       "2021-03-13 -0.398955  0.264229"
      ],
      "text/html": "<div>\n<style scoped>\n    .dataframe tbody tr th:only-of-type {\n        vertical-align: middle;\n    }\n\n    .dataframe tbody tr th {\n        vertical-align: top;\n    }\n\n    .dataframe thead th {\n        text-align: right;\n    }\n</style>\n<table border=\"1\" class=\"dataframe\">\n  <thead>\n    <tr style=\"text-align: right;\">\n      <th></th>\n      <th>A</th>\n      <th>C</th>\n    </tr>\n  </thead>\n  <tbody>\n    <tr>\n      <th>2021-03-11</th>\n      <td>-0.112320</td>\n      <td>-0.009008</td>\n    </tr>\n    <tr>\n      <th>2021-03-12</th>\n      <td>-0.747902</td>\n      <td>-0.345154</td>\n    </tr>\n    <tr>\n      <th>2021-03-13</th>\n      <td>-0.398955</td>\n      <td>0.264229</td>\n    </tr>\n  </tbody>\n</table>\n</div>"
     },
     "metadata": {},
     "execution_count": 58
    }
   ],
   "source": [
    "df.loc['20210311':'20210313',['A','C']]"
   ]
  },
  {
   "cell_type": "code",
   "execution_count": 63,
   "metadata": {},
   "outputs": [
    {
     "output_type": "execute_result",
     "data": {
      "text/plain": [
       "A   -0.398955\n",
       "B    0.339142\n",
       "C    0.264229\n",
       "D    0.518604\n",
       "Name: 2021-03-13 00:00:00, dtype: float64"
      ]
     },
     "metadata": {},
     "execution_count": 63
    }
   ],
   "source": [
    "df.iloc[2]"
   ]
  },
  {
   "cell_type": "code",
   "execution_count": 66,
   "metadata": {},
   "outputs": [
    {
     "output_type": "execute_result",
     "data": {
      "text/plain": [
       "                   C\n",
       "2021-03-12 -0.345154\n",
       "2021-03-13  0.264229"
      ],
      "text/html": "<div>\n<style scoped>\n    .dataframe tbody tr th:only-of-type {\n        vertical-align: middle;\n    }\n\n    .dataframe tbody tr th {\n        vertical-align: top;\n    }\n\n    .dataframe thead th {\n        text-align: right;\n    }\n</style>\n<table border=\"1\" class=\"dataframe\">\n  <thead>\n    <tr style=\"text-align: right;\">\n      <th></th>\n      <th>C</th>\n    </tr>\n  </thead>\n  <tbody>\n    <tr>\n      <th>2021-03-12</th>\n      <td>-0.345154</td>\n    </tr>\n    <tr>\n      <th>2021-03-13</th>\n      <td>0.264229</td>\n    </tr>\n  </tbody>\n</table>\n</div>"
     },
     "metadata": {},
     "execution_count": 66
    }
   ],
   "source": [
    "df.iloc[1:3,2:3]"
   ]
  },
  {
   "cell_type": "code",
   "execution_count": 68,
   "metadata": {},
   "outputs": [
    {
     "output_type": "execute_result",
     "data": {
      "text/plain": [
       "                   A         B         C         D\n",
       "2021-03-14  1.131041  0.526505  0.941288 -0.034716"
      ],
      "text/html": "<div>\n<style scoped>\n    .dataframe tbody tr th:only-of-type {\n        vertical-align: middle;\n    }\n\n    .dataframe tbody tr th {\n        vertical-align: top;\n    }\n\n    .dataframe thead th {\n        text-align: right;\n    }\n</style>\n<table border=\"1\" class=\"dataframe\">\n  <thead>\n    <tr style=\"text-align: right;\">\n      <th></th>\n      <th>A</th>\n      <th>B</th>\n      <th>C</th>\n      <th>D</th>\n    </tr>\n  </thead>\n  <tbody>\n    <tr>\n      <th>2021-03-14</th>\n      <td>1.131041</td>\n      <td>0.526505</td>\n      <td>0.941288</td>\n      <td>-0.034716</td>\n    </tr>\n  </tbody>\n</table>\n</div>"
     },
     "metadata": {},
     "execution_count": 68
    }
   ],
   "source": [
    "df[df.A>0]"
   ]
  },
  {
   "cell_type": "code",
   "execution_count": 69,
   "metadata": {},
   "outputs": [
    {
     "output_type": "execute_result",
     "data": {
      "text/plain": [
       "                   A         B         C         D\n",
       "2021-03-11       NaN  0.955334       NaN       NaN\n",
       "2021-03-12       NaN  0.363128       NaN  0.167037\n",
       "2021-03-13       NaN  0.339142  0.264229  0.518604\n",
       "2021-03-14  1.131041  0.526505  0.941288       NaN\n",
       "2021-03-15       NaN  1.269623       NaN  0.828295\n",
       "2021-03-16       NaN       NaN  0.534134  0.257496\n",
       "2021-03-17       NaN  0.650279  1.445453  1.411669\n",
       "2021-03-18       NaN       NaN  0.030634       NaN"
      ],
      "text/html": "<div>\n<style scoped>\n    .dataframe tbody tr th:only-of-type {\n        vertical-align: middle;\n    }\n\n    .dataframe tbody tr th {\n        vertical-align: top;\n    }\n\n    .dataframe thead th {\n        text-align: right;\n    }\n</style>\n<table border=\"1\" class=\"dataframe\">\n  <thead>\n    <tr style=\"text-align: right;\">\n      <th></th>\n      <th>A</th>\n      <th>B</th>\n      <th>C</th>\n      <th>D</th>\n    </tr>\n  </thead>\n  <tbody>\n    <tr>\n      <th>2021-03-11</th>\n      <td>NaN</td>\n      <td>0.955334</td>\n      <td>NaN</td>\n      <td>NaN</td>\n    </tr>\n    <tr>\n      <th>2021-03-12</th>\n      <td>NaN</td>\n      <td>0.363128</td>\n      <td>NaN</td>\n      <td>0.167037</td>\n    </tr>\n    <tr>\n      <th>2021-03-13</th>\n      <td>NaN</td>\n      <td>0.339142</td>\n      <td>0.264229</td>\n      <td>0.518604</td>\n    </tr>\n    <tr>\n      <th>2021-03-14</th>\n      <td>1.131041</td>\n      <td>0.526505</td>\n      <td>0.941288</td>\n      <td>NaN</td>\n    </tr>\n    <tr>\n      <th>2021-03-15</th>\n      <td>NaN</td>\n      <td>1.269623</td>\n      <td>NaN</td>\n      <td>0.828295</td>\n    </tr>\n    <tr>\n      <th>2021-03-16</th>\n      <td>NaN</td>\n      <td>NaN</td>\n      <td>0.534134</td>\n      <td>0.257496</td>\n    </tr>\n    <tr>\n      <th>2021-03-17</th>\n      <td>NaN</td>\n      <td>0.650279</td>\n      <td>1.445453</td>\n      <td>1.411669</td>\n    </tr>\n    <tr>\n      <th>2021-03-18</th>\n      <td>NaN</td>\n      <td>NaN</td>\n      <td>0.030634</td>\n      <td>NaN</td>\n    </tr>\n  </tbody>\n</table>\n</div>"
     },
     "metadata": {},
     "execution_count": 69
    }
   ],
   "source": [
    "df[df>0]"
   ]
  },
  {
   "cell_type": "code",
   "execution_count": 71,
   "metadata": {},
   "outputs": [
    {
     "output_type": "execute_result",
     "data": {
      "text/plain": [
       "                   A         B         C  D\n",
       "2021-03-11 -0.112320  0.955334 -0.009008  0\n",
       "2021-03-12 -0.747902  0.363128 -0.345154  0\n",
       "2021-03-13 -0.398955  0.339142  0.264229  0\n",
       "2021-03-14  1.131041  0.526505  0.941288  0\n",
       "2021-03-15 -0.371742  1.269623 -0.530221  0\n",
       "2021-03-16 -0.318717 -1.125820  0.534134  0\n",
       "2021-03-17 -0.766795  0.650279  1.445453  0\n",
       "2021-03-18 -0.914639 -0.646133  0.030634  0"
      ],
      "text/html": "<div>\n<style scoped>\n    .dataframe tbody tr th:only-of-type {\n        vertical-align: middle;\n    }\n\n    .dataframe tbody tr th {\n        vertical-align: top;\n    }\n\n    .dataframe thead th {\n        text-align: right;\n    }\n</style>\n<table border=\"1\" class=\"dataframe\">\n  <thead>\n    <tr style=\"text-align: right;\">\n      <th></th>\n      <th>A</th>\n      <th>B</th>\n      <th>C</th>\n      <th>D</th>\n    </tr>\n  </thead>\n  <tbody>\n    <tr>\n      <th>2021-03-11</th>\n      <td>-0.112320</td>\n      <td>0.955334</td>\n      <td>-0.009008</td>\n      <td>0</td>\n    </tr>\n    <tr>\n      <th>2021-03-12</th>\n      <td>-0.747902</td>\n      <td>0.363128</td>\n      <td>-0.345154</td>\n      <td>0</td>\n    </tr>\n    <tr>\n      <th>2021-03-13</th>\n      <td>-0.398955</td>\n      <td>0.339142</td>\n      <td>0.264229</td>\n      <td>0</td>\n    </tr>\n    <tr>\n      <th>2021-03-14</th>\n      <td>1.131041</td>\n      <td>0.526505</td>\n      <td>0.941288</td>\n      <td>0</td>\n    </tr>\n    <tr>\n      <th>2021-03-15</th>\n      <td>-0.371742</td>\n      <td>1.269623</td>\n      <td>-0.530221</td>\n      <td>0</td>\n    </tr>\n    <tr>\n      <th>2021-03-16</th>\n      <td>-0.318717</td>\n      <td>-1.125820</td>\n      <td>0.534134</td>\n      <td>0</td>\n    </tr>\n    <tr>\n      <th>2021-03-17</th>\n      <td>-0.766795</td>\n      <td>0.650279</td>\n      <td>1.445453</td>\n      <td>0</td>\n    </tr>\n    <tr>\n      <th>2021-03-18</th>\n      <td>-0.914639</td>\n      <td>-0.646133</td>\n      <td>0.030634</td>\n      <td>0</td>\n    </tr>\n  </tbody>\n</table>\n</div>"
     },
     "metadata": {},
     "execution_count": 71
    }
   ],
   "source": [
    "df['D'] = 0\n",
    "df"
   ]
  },
  {
   "cell_type": "code",
   "execution_count": 72,
   "metadata": {},
   "outputs": [
    {
     "output_type": "execute_result",
     "data": {
      "text/plain": [
       "                   A         B         C  D\n",
       "2021-03-11 -0.112320  0.955334 -0.009008  1\n",
       "2021-03-12 -0.747902  0.363128 -0.345154  1\n",
       "2021-03-13 -0.398955  0.339142  0.264229  1\n",
       "2021-03-14  1.131041  0.526505  0.941288  1\n",
       "2021-03-15 -0.371742  1.269623 -0.530221  1\n",
       "2021-03-16 -0.318717 -1.125820  0.534134  1\n",
       "2021-03-17 -0.766795  0.650279  1.445453  1\n",
       "2021-03-18 -0.914639 -0.646133  0.030634  1"
      ],
      "text/html": "<div>\n<style scoped>\n    .dataframe tbody tr th:only-of-type {\n        vertical-align: middle;\n    }\n\n    .dataframe tbody tr th {\n        vertical-align: top;\n    }\n\n    .dataframe thead th {\n        text-align: right;\n    }\n</style>\n<table border=\"1\" class=\"dataframe\">\n  <thead>\n    <tr style=\"text-align: right;\">\n      <th></th>\n      <th>A</th>\n      <th>B</th>\n      <th>C</th>\n      <th>D</th>\n    </tr>\n  </thead>\n  <tbody>\n    <tr>\n      <th>2021-03-11</th>\n      <td>-0.112320</td>\n      <td>0.955334</td>\n      <td>-0.009008</td>\n      <td>1</td>\n    </tr>\n    <tr>\n      <th>2021-03-12</th>\n      <td>-0.747902</td>\n      <td>0.363128</td>\n      <td>-0.345154</td>\n      <td>1</td>\n    </tr>\n    <tr>\n      <th>2021-03-13</th>\n      <td>-0.398955</td>\n      <td>0.339142</td>\n      <td>0.264229</td>\n      <td>1</td>\n    </tr>\n    <tr>\n      <th>2021-03-14</th>\n      <td>1.131041</td>\n      <td>0.526505</td>\n      <td>0.941288</td>\n      <td>1</td>\n    </tr>\n    <tr>\n      <th>2021-03-15</th>\n      <td>-0.371742</td>\n      <td>1.269623</td>\n      <td>-0.530221</td>\n      <td>1</td>\n    </tr>\n    <tr>\n      <th>2021-03-16</th>\n      <td>-0.318717</td>\n      <td>-1.125820</td>\n      <td>0.534134</td>\n      <td>1</td>\n    </tr>\n    <tr>\n      <th>2021-03-17</th>\n      <td>-0.766795</td>\n      <td>0.650279</td>\n      <td>1.445453</td>\n      <td>1</td>\n    </tr>\n    <tr>\n      <th>2021-03-18</th>\n      <td>-0.914639</td>\n      <td>-0.646133</td>\n      <td>0.030634</td>\n      <td>1</td>\n    </tr>\n  </tbody>\n</table>\n</div>"
     },
     "metadata": {},
     "execution_count": 72
    }
   ],
   "source": [
    "df.loc[:,'D'] = 1\n",
    "df"
   ]
  },
  {
   "cell_type": "code",
   "execution_count": 73,
   "metadata": {},
   "outputs": [
    {
     "output_type": "execute_result",
     "data": {
      "text/plain": [
       "                   A         B         C  D\n",
       "2021-03-11 -0.112320  0.955334 -0.009008  2\n",
       "2021-03-12 -0.747902  0.363128 -0.345154  1\n",
       "2021-03-13 -0.398955  0.339142  0.264229  1\n",
       "2021-03-14  1.131041  0.526505  0.941288  1\n",
       "2021-03-15 -0.371742  1.269623 -0.530221  1\n",
       "2021-03-16 -0.318717 -1.125820  0.534134  1\n",
       "2021-03-17 -0.766795  0.650279  1.445453  1\n",
       "2021-03-18 -0.914639 -0.646133  0.030634  1"
      ],
      "text/html": "<div>\n<style scoped>\n    .dataframe tbody tr th:only-of-type {\n        vertical-align: middle;\n    }\n\n    .dataframe tbody tr th {\n        vertical-align: top;\n    }\n\n    .dataframe thead th {\n        text-align: right;\n    }\n</style>\n<table border=\"1\" class=\"dataframe\">\n  <thead>\n    <tr style=\"text-align: right;\">\n      <th></th>\n      <th>A</th>\n      <th>B</th>\n      <th>C</th>\n      <th>D</th>\n    </tr>\n  </thead>\n  <tbody>\n    <tr>\n      <th>2021-03-11</th>\n      <td>-0.112320</td>\n      <td>0.955334</td>\n      <td>-0.009008</td>\n      <td>2</td>\n    </tr>\n    <tr>\n      <th>2021-03-12</th>\n      <td>-0.747902</td>\n      <td>0.363128</td>\n      <td>-0.345154</td>\n      <td>1</td>\n    </tr>\n    <tr>\n      <th>2021-03-13</th>\n      <td>-0.398955</td>\n      <td>0.339142</td>\n      <td>0.264229</td>\n      <td>1</td>\n    </tr>\n    <tr>\n      <th>2021-03-14</th>\n      <td>1.131041</td>\n      <td>0.526505</td>\n      <td>0.941288</td>\n      <td>1</td>\n    </tr>\n    <tr>\n      <th>2021-03-15</th>\n      <td>-0.371742</td>\n      <td>1.269623</td>\n      <td>-0.530221</td>\n      <td>1</td>\n    </tr>\n    <tr>\n      <th>2021-03-16</th>\n      <td>-0.318717</td>\n      <td>-1.125820</td>\n      <td>0.534134</td>\n      <td>1</td>\n    </tr>\n    <tr>\n      <th>2021-03-17</th>\n      <td>-0.766795</td>\n      <td>0.650279</td>\n      <td>1.445453</td>\n      <td>1</td>\n    </tr>\n    <tr>\n      <th>2021-03-18</th>\n      <td>-0.914639</td>\n      <td>-0.646133</td>\n      <td>0.030634</td>\n      <td>1</td>\n    </tr>\n  </tbody>\n</table>\n</div>"
     },
     "metadata": {},
     "execution_count": 73
    }
   ],
   "source": [
    "df.loc['20210311', 'D'] = 2\n",
    "df"
   ]
  },
  {
   "cell_type": "code",
   "execution_count": 75,
   "metadata": {},
   "outputs": [
    {
     "output_type": "error",
     "ename": "AttributeError",
     "evalue": "'DataFrame' object has no attribute 'ix'",
     "traceback": [
      "\u001b[1;31m---------------------------------------------------------------------------\u001b[0m",
      "\u001b[1;31mAttributeError\u001b[0m                            Traceback (most recent call last)",
      "\u001b[1;32m<ipython-input-75-a4d34e3bcf9c>\u001b[0m in \u001b[0;36m<module>\u001b[1;34m\u001b[0m\n\u001b[1;32m----> 1\u001b[1;33m \u001b[0mdf\u001b[0m\u001b[1;33m.\u001b[0m\u001b[0mix\u001b[0m\u001b[1;33m[\u001b[0m\u001b[1;36m1\u001b[0m\u001b[1;33m,\u001b[0m \u001b[1;34m'D'\u001b[0m\u001b[1;33m]\u001b[0m \u001b[1;33m=\u001b[0m\u001b[1;36m3\u001b[0m\u001b[1;33m\u001b[0m\u001b[1;33m\u001b[0m\u001b[0m\n\u001b[0m\u001b[0;32m      2\u001b[0m \u001b[0mdf\u001b[0m\u001b[1;33m\u001b[0m\u001b[1;33m\u001b[0m\u001b[0m\n",
      "\u001b[1;32mD:\\Users\\Andy\\anaconda3\\lib\\site-packages\\pandas\\core\\generic.py\u001b[0m in \u001b[0;36m__getattr__\u001b[1;34m(self, name)\u001b[0m\n\u001b[0;32m   5137\u001b[0m             \u001b[1;32mif\u001b[0m \u001b[0mself\u001b[0m\u001b[1;33m.\u001b[0m\u001b[0m_info_axis\u001b[0m\u001b[1;33m.\u001b[0m\u001b[0m_can_hold_identifiers_and_holds_name\u001b[0m\u001b[1;33m(\u001b[0m\u001b[0mname\u001b[0m\u001b[1;33m)\u001b[0m\u001b[1;33m:\u001b[0m\u001b[1;33m\u001b[0m\u001b[1;33m\u001b[0m\u001b[0m\n\u001b[0;32m   5138\u001b[0m                 \u001b[1;32mreturn\u001b[0m \u001b[0mself\u001b[0m\u001b[1;33m[\u001b[0m\u001b[0mname\u001b[0m\u001b[1;33m]\u001b[0m\u001b[1;33m\u001b[0m\u001b[1;33m\u001b[0m\u001b[0m\n\u001b[1;32m-> 5139\u001b[1;33m             \u001b[1;32mreturn\u001b[0m \u001b[0mobject\u001b[0m\u001b[1;33m.\u001b[0m\u001b[0m__getattribute__\u001b[0m\u001b[1;33m(\u001b[0m\u001b[0mself\u001b[0m\u001b[1;33m,\u001b[0m \u001b[0mname\u001b[0m\u001b[1;33m)\u001b[0m\u001b[1;33m\u001b[0m\u001b[1;33m\u001b[0m\u001b[0m\n\u001b[0m\u001b[0;32m   5140\u001b[0m \u001b[1;33m\u001b[0m\u001b[0m\n\u001b[0;32m   5141\u001b[0m     \u001b[1;32mdef\u001b[0m \u001b[0m__setattr__\u001b[0m\u001b[1;33m(\u001b[0m\u001b[0mself\u001b[0m\u001b[1;33m,\u001b[0m \u001b[0mname\u001b[0m\u001b[1;33m:\u001b[0m \u001b[0mstr\u001b[0m\u001b[1;33m,\u001b[0m \u001b[0mvalue\u001b[0m\u001b[1;33m)\u001b[0m \u001b[1;33m->\u001b[0m \u001b[1;32mNone\u001b[0m\u001b[1;33m:\u001b[0m\u001b[1;33m\u001b[0m\u001b[1;33m\u001b[0m\u001b[0m\n",
      "\u001b[1;31mAttributeError\u001b[0m: 'DataFrame' object has no attribute 'ix'"
     ]
    }
   ],
   "source": [
    "df.ix[1, 'D'] =3\n",
    "df"
   ]
  },
  {
   "cell_type": "code",
   "execution_count": 77,
   "metadata": {},
   "outputs": [
    {
     "output_type": "execute_result",
     "data": {
      "text/plain": [
       "0    3\n",
       "1    4\n",
       "2    5\n",
       "3    6\n",
       "dtype: int64"
      ]
     },
     "metadata": {},
     "execution_count": 77
    }
   ],
   "source": [
    "s = pd.Series([3,4,5,6])\n",
    "s"
   ]
  },
  {
   "cell_type": "code",
   "execution_count": 79,
   "metadata": {},
   "outputs": [
    {
     "output_type": "execute_result",
     "data": {
      "text/plain": [
       "a    3\n",
       "b    4\n",
       "c    5\n",
       "d    6\n",
       "dtype: int64"
      ]
     },
     "metadata": {},
     "execution_count": 79
    }
   ],
   "source": [
    "s = pd.Series([3,4,5,6], index=['a','b','c','d'])\n",
    "s"
   ]
  },
  {
   "cell_type": "code",
   "execution_count": 80,
   "metadata": {},
   "outputs": [
    {
     "output_type": "execute_result",
     "data": {
      "text/plain": [
       "array([3, 4, 5, 6], dtype=int64)"
      ]
     },
     "metadata": {},
     "execution_count": 80
    }
   ],
   "source": [
    "s.values"
   ]
  },
  {
   "cell_type": "code",
   "execution_count": 81,
   "metadata": {},
   "outputs": [
    {
     "output_type": "execute_result",
     "data": {
      "text/plain": [
       "Index(['a', 'b', 'c', 'd'], dtype='object')"
      ]
     },
     "metadata": {},
     "execution_count": 81
    }
   ],
   "source": [
    "s.index"
   ]
  },
  {
   "cell_type": "code",
   "execution_count": 83,
   "metadata": {},
   "outputs": [
    {
     "output_type": "execute_result",
     "data": {
      "text/plain": [
       "b    4\n",
       "c    5\n",
       "dtype: int64"
      ]
     },
     "metadata": {},
     "execution_count": 83
    }
   ],
   "source": [
    "s[['b', 'c']]"
   ]
  },
  {
   "cell_type": "code",
   "execution_count": 85,
   "metadata": {},
   "outputs": [
    {
     "output_type": "execute_result",
     "data": {
      "text/plain": [
       "a    3\n",
       "c    4\n",
       "x    5\n",
       "y    6\n",
       "dtype: int64"
      ]
     },
     "metadata": {},
     "execution_count": 85
    }
   ],
   "source": [
    "s.index = ['a', 'c', 'x', 'y']\n",
    "s"
   ]
  },
  {
   "cell_type": "code",
   "execution_count": 86,
   "metadata": {},
   "outputs": [
    {
     "output_type": "execute_result",
     "data": {
      "text/plain": [
       "a    6\n",
       "x    7\n",
       "z    8\n",
       "c    9\n",
       "dtype: int64"
      ]
     },
     "metadata": {},
     "execution_count": 86
    }
   ],
   "source": [
    "s1 = pd.Series([6,7,8,9], index=['a', 'x', 'z', 'c'])\n",
    "s1"
   ]
  },
  {
   "cell_type": "code",
   "execution_count": 87,
   "metadata": {},
   "outputs": [
    {
     "output_type": "execute_result",
     "data": {
      "text/plain": [
       "a     9.0\n",
       "c    13.0\n",
       "x    12.0\n",
       "y     NaN\n",
       "z     NaN\n",
       "dtype: float64"
      ]
     },
     "metadata": {},
     "execution_count": 87
    }
   ],
   "source": [
    "s+s1"
   ]
  }
 ]
}