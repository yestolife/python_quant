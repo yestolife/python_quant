{
 "metadata": {
  "language_info": {
   "codemirror_mode": {
    "name": "ipython",
    "version": 3
   },
   "file_extension": ".py",
   "mimetype": "text/x-python",
   "name": "python",
   "nbconvert_exporter": "python",
   "pygments_lexer": "ipython3",
   "version": "3.8.5-final"
  },
  "orig_nbformat": 2,
  "kernelspec": {
   "name": "python3",
   "display_name": "Python 3.8.5 64-bit (conda)",
   "metadata": {
    "interpreter": {
     "hash": "ab2c6effcff14de217321fbbb614bff3794ce5785c4964fdaa7bfe00a73c95ca"
    }
   }
  }
 },
 "nbformat": 4,
 "nbformat_minor": 2,
 "cells": [
  {
   "cell_type": "code",
   "execution_count": 35,
   "metadata": {},
   "outputs": [
    {
     "output_type": "execute_result",
     "data": {
      "text/plain": [
       "'<!DOCTYPE html>\\n<html lang=\"en\">\\n    <head>\\n        <meta charset=\"utf-8\" />\\n        <link href=\"https://www.highcharts.com/highslide/highslide.css\" rel=\"stylesheet\" />\\n        <script type=\"text/javascript\" src=\"https://ajax.googleapis.com/ajax/libs/jquery/1.9.1/jquery.min.js\"></script>\\n        <script type=\"text/javascript\" src=\"https://code.highcharts.com/6/highcharts.js\"></script>\\n        <script type=\"text/javascript\" src=\"https://code.highcharts.com/6/highcharts-more.js\"></script>\\n        <script type=\"text/javascript\" src=\"https://code.highcharts.com/6/modules/heatmap.js\"></script>\\n        <script type=\"text/javascript\" src=\"https://code.highcharts.com/6/modules/exporting.js\"></script>\\n    </head>\\n    <body style=\"margin:0;padding:0\">\\n                <div id=\"test\" style=\"width:550px;height:400px;\">Loading....</div>\\n\\n\\n    <script>\\n        $(function(){\\n\\n\\n\\n\\n\\n            Highcharts.setOptions({\"global\": {}, \"lang\": {}});\\n            var option = {\"chart\": {\"renderTo\": \"test\", \"width\": 550, \"height\": 400, \"polar\": true, \"type\": \"line\"}, \"colors\": {}, \"credits\": {\"enabled\": false}, \"drilldown\": {}, \"exporting\": {}, \"labels\": {}, \"legend\": {\"align\": \"right\", \"verticalAlign\": \"top\", \"y\": 70, \"layout\": \"vertical\"}, \"loading\": {}, \"navigation\": {}, \"pane\": {\"size\": \"80%\"}, \"plotOptions\": {}, \"series\": {}, \"subtitle\": {}, \"title\": {\"text\": \"Budget vs spending\", \"x\": -80}, \"tooltip\": {\"shared\": true, \"pointFormat\": \"<span style=\\\\\"color:{series.color}\\\\\">{series.name}: <b>${point.y:,.0f}</b><br/>\"}, \"xAxis\": {\"categories\": [\"Sales\", \"Marketing\", \"Development\", \"Customer Support\", \"Information Technology\", \"Administration\"], \"tickmarkPlacement\": \"on\", \"lineWidth\": 0}, \"yAxis\": {\"gridLineInterpolation\": \"polygon\", \"lineWidth\": 0, \"min\": 0}};\\n\\n\\n \\n\\n            var chart = new Highcharts.Chart(option);\\n\\n            var data = [{\"data\": [43000, 19000, 60000, 35000, 17000, 10000], \"type\": \"line\", \"name\": \"Allocated Budget\", \"pointPlacement\": \"on\"}, {\"data\": [50000, 39000, 42000, 31000, 26000, 14000], \"type\": \"line\", \"name\": \"Actual Spending\", \"pointPlacement\": \"on\"}];\\n            var dataLen = data.length;\\n            for (var ix = 0; ix < dataLen; ix++) {\\n                chart.addSeries(data[ix]);\\n            }\\n \\n\\n\\n\\n\\n\\n\\n\\n        \\n    });\\n        </script>\\n\\n    </body>\\n</html>'"
      ]
     },
     "metadata": {},
     "execution_count": 35
    }
   ],
   "source": [
    "# -*- coding: utf-8 -*-\n",
    "\"\"\"\n",
    "Highcharts Demos\n",
    "Spiderweb: http://www.highcharts.com/demo/polar-spider\n",
    "\"\"\"\n",
    "\n",
    "from highcharts import highcharts\n",
    "H = highcharts.Highchart(width=550, height=400)\n",
    "\n",
    "options = {\n",
    "    'chart': {\n",
    "        'polar': True,\n",
    "        'type': 'line',\n",
    "        'renderTo': 'test'\n",
    "    },\n",
    "\n",
    "    'title': {\n",
    "        'text': 'Budget vs spending',\n",
    "        'x': -80\n",
    "    },\n",
    "\n",
    "    'pane': {\n",
    "        'size': '80%'\n",
    "    },\n",
    "\n",
    "    'xAxis': {\n",
    "        'categories': ['Sales', 'Marketing', 'Development', 'Customer Support',\n",
    "                'Information Technology', 'Administration'],\n",
    "        'tickmarkPlacement': 'on',\n",
    "        'lineWidth': 0\n",
    "    },\n",
    "\n",
    "    'yAxis': {\n",
    "        'gridLineInterpolation': 'polygon',\n",
    "        'lineWidth': 0,\n",
    "        'min': 0\n",
    "    },\n",
    "\n",
    "    'tooltip': {\n",
    "        'shared': True,\n",
    "        'pointFormat': '<span style=\"color:{series.color}\">{series.name}: <b>${point.y:,.0f}</b><br/>'\n",
    "    },\n",
    "\n",
    "    'legend': {\n",
    "        'align': 'right',\n",
    "        'verticalAlign': 'top',\n",
    "        'y': 70,\n",
    "        'layout': 'vertical'\n",
    "    },\n",
    "}\n",
    "\n",
    "data1 = [43000, 19000, 60000, 35000, 17000, 10000]\n",
    "data2 = [50000, 39000, 42000, 31000, 26000, 14000]\n",
    "\n",
    "H.set_dict_options(options)\n",
    "H.add_data_set(data1, name='Allocated Budget', pointPlacement='on')\n",
    "H.add_data_set(data2, name='Actual Spending',  pointPlacement='on')\n",
    "\n",
    "H.save_file('section4.3_highcharts_demo')\n",
    "H.htmlcontent\n"
   ]
  }
 ]
}