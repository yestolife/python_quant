{
 "metadata": {
  "language_info": {
   "codemirror_mode": {
    "name": "ipython",
    "version": 3
   },
   "file_extension": ".py",
   "mimetype": "text/x-python",
   "name": "python",
   "nbconvert_exporter": "python",
   "pygments_lexer": "ipython3",
   "version": "3.8.5-final"
  },
  "orig_nbformat": 2,
  "kernelspec": {
   "name": "python3",
   "display_name": "Python 3.8.5 64-bit (conda)",
   "metadata": {
    "interpreter": {
     "hash": "ab2c6effcff14de217321fbbb614bff3794ce5785c4964fdaa7bfe00a73c95ca"
    }
   }
  }
 },
 "nbformat": 4,
 "nbformat_minor": 2,
 "cells": [
  {
   "cell_type": "code",
   "execution_count": 2,
   "metadata": {},
   "outputs": [
    {
     "output_type": "stream",
     "name": "stdout",
     "text": [
      "本接口即将停止更新，请尽快使用Pro版接口：https://waditu.com/document/2\n"
     ]
    },
    {
     "output_type": "execute_result",
     "data": {
      "text/plain": [
       "               date     open    close  ...  amount  turnoverratio    code\n",
       "0  2021-03-01 13:45  5390.37  5394.98  ...      {}         0.0000  399300\n",
       "1  2021-03-01 13:50  5395.61  5395.01  ...      {}         0.0000  399300\n",
       "2  2021-03-01 13:55  5395.71  5400.76  ...      {}         0.0000  399300\n",
       "3  2021-03-01 14:00  5400.40  5401.14  ...      {}         0.0000  399300\n",
       "4  2021-03-01 14:05  5401.27  5403.91  ...      {}         0.0000  399300\n",
       "\n",
       "[5 rows x 9 columns]"
      ],
      "text/html": "<div>\n<style scoped>\n    .dataframe tbody tr th:only-of-type {\n        vertical-align: middle;\n    }\n\n    .dataframe tbody tr th {\n        vertical-align: top;\n    }\n\n    .dataframe thead th {\n        text-align: right;\n    }\n</style>\n<table border=\"1\" class=\"dataframe\">\n  <thead>\n    <tr style=\"text-align: right;\">\n      <th></th>\n      <th>date</th>\n      <th>open</th>\n      <th>close</th>\n      <th>high</th>\n      <th>low</th>\n      <th>volume</th>\n      <th>amount</th>\n      <th>turnoverratio</th>\n      <th>code</th>\n    </tr>\n  </thead>\n  <tbody>\n    <tr>\n      <th>0</th>\n      <td>2021-03-01 13:45</td>\n      <td>5390.37</td>\n      <td>5394.98</td>\n      <td>5395.59</td>\n      <td>5385.29</td>\n      <td>2288825.0</td>\n      <td>{}</td>\n      <td>0.0000</td>\n      <td>399300</td>\n    </tr>\n    <tr>\n      <th>1</th>\n      <td>2021-03-01 13:50</td>\n      <td>5395.61</td>\n      <td>5395.01</td>\n      <td>5396.56</td>\n      <td>5393.59</td>\n      <td>1859857.0</td>\n      <td>{}</td>\n      <td>0.0000</td>\n      <td>399300</td>\n    </tr>\n    <tr>\n      <th>2</th>\n      <td>2021-03-01 13:55</td>\n      <td>5395.71</td>\n      <td>5400.76</td>\n      <td>5403.83</td>\n      <td>5394.20</td>\n      <td>2635498.0</td>\n      <td>{}</td>\n      <td>0.0000</td>\n      <td>399300</td>\n    </tr>\n    <tr>\n      <th>3</th>\n      <td>2021-03-01 14:00</td>\n      <td>5400.40</td>\n      <td>5401.14</td>\n      <td>5401.52</td>\n      <td>5396.49</td>\n      <td>2234453.0</td>\n      <td>{}</td>\n      <td>0.0000</td>\n      <td>399300</td>\n    </tr>\n    <tr>\n      <th>4</th>\n      <td>2021-03-01 14:05</td>\n      <td>5401.27</td>\n      <td>5403.91</td>\n      <td>5404.25</td>\n      <td>5396.81</td>\n      <td>2219740.0</td>\n      <td>{}</td>\n      <td>0.0000</td>\n      <td>399300</td>\n    </tr>\n  </tbody>\n</table>\n</div>"
     },
     "metadata": {},
     "execution_count": 2
    }
   ],
   "source": [
    "import tushare as ts \n",
    "df = ts.get_k_data('399300',ktype='5')\n",
    "df.head()"
   ]
  },
  {
   "cell_type": "code",
   "execution_count": 4,
   "metadata": {},
   "outputs": [
    {
     "output_type": "execute_result",
     "data": {
      "text/plain": [
       "                        open    close     high      low      volume\n",
       "date                                                               \n",
       "2021-03-01 13:45:00  5390.37  5400.76  5403.83  5385.29   6784180.0\n",
       "2021-03-01 14:00:00  5400.40  5408.54  5408.75  5396.49   6699462.0\n",
       "2021-03-01 14:15:00  5408.63  5402.67  5408.63  5396.18   6813588.0\n",
       "2021-03-01 14:30:00  5403.02  5410.65  5411.74  5398.22   7694327.0\n",
       "2021-03-01 14:45:00  5410.89  5418.87  5419.47  5407.59  11895097.0"
      ],
      "text/html": "<div>\n<style scoped>\n    .dataframe tbody tr th:only-of-type {\n        vertical-align: middle;\n    }\n\n    .dataframe tbody tr th {\n        vertical-align: top;\n    }\n\n    .dataframe thead th {\n        text-align: right;\n    }\n</style>\n<table border=\"1\" class=\"dataframe\">\n  <thead>\n    <tr style=\"text-align: right;\">\n      <th></th>\n      <th>open</th>\n      <th>close</th>\n      <th>high</th>\n      <th>low</th>\n      <th>volume</th>\n    </tr>\n    <tr>\n      <th>date</th>\n      <th></th>\n      <th></th>\n      <th></th>\n      <th></th>\n      <th></th>\n    </tr>\n  </thead>\n  <tbody>\n    <tr>\n      <th>2021-03-01 13:45:00</th>\n      <td>5390.37</td>\n      <td>5400.76</td>\n      <td>5403.83</td>\n      <td>5385.29</td>\n      <td>6784180.0</td>\n    </tr>\n    <tr>\n      <th>2021-03-01 14:00:00</th>\n      <td>5400.40</td>\n      <td>5408.54</td>\n      <td>5408.75</td>\n      <td>5396.49</td>\n      <td>6699462.0</td>\n    </tr>\n    <tr>\n      <th>2021-03-01 14:15:00</th>\n      <td>5408.63</td>\n      <td>5402.67</td>\n      <td>5408.63</td>\n      <td>5396.18</td>\n      <td>6813588.0</td>\n    </tr>\n    <tr>\n      <th>2021-03-01 14:30:00</th>\n      <td>5403.02</td>\n      <td>5410.65</td>\n      <td>5411.74</td>\n      <td>5398.22</td>\n      <td>7694327.0</td>\n    </tr>\n    <tr>\n      <th>2021-03-01 14:45:00</th>\n      <td>5410.89</td>\n      <td>5418.87</td>\n      <td>5419.47</td>\n      <td>5407.59</td>\n      <td>11895097.0</td>\n    </tr>\n  </tbody>\n</table>\n</div>"
     },
     "metadata": {},
     "execution_count": 4
    }
   ],
   "source": [
    "import pandas as pd \n",
    "df['date'] = pd.to_datetime(df['date'])\n",
    "df = df.set_index('date')\n",
    "\n",
    "df_new = pd.DataFrame()\n",
    "df_new['open'] = df['open'].resample('15T').first()\n",
    "df_new['close'] = df['close'].resample('15T').last()\n",
    "df_new['high'] = df['high'].resample('15T').max()\n",
    "df_new['low'] = df['low'].resample('15T').min()\n",
    "df_new['volume'] = df['volume'].resample('15T').sum()\n",
    "\n",
    "df_new.head()"
   ]
  }
 ]
}