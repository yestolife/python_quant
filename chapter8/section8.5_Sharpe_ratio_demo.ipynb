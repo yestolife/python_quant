{
 "metadata": {
  "language_info": {
   "codemirror_mode": {
    "name": "ipython",
    "version": 3
   },
   "file_extension": ".py",
   "mimetype": "text/x-python",
   "name": "python",
   "nbconvert_exporter": "python",
   "pygments_lexer": "ipython3",
   "version": "3.8.5-final"
  },
  "orig_nbformat": 2,
  "kernelspec": {
   "name": "python3",
   "display_name": "Python 3.8.5 64-bit ('Andy': virtualenv)",
   "metadata": {
    "interpreter": {
     "hash": "ab2c6effcff14de217321fbbb614bff3794ce5785c4964fdaa7bfe00a73c95ca"
    }
   }
  }
 },
 "nbformat": 4,
 "nbformat_minor": 2,
 "cells": [
  {
   "cell_type": "code",
   "execution_count": 30,
   "metadata": {},
   "outputs": [
    {
     "output_type": "execute_result",
     "data": {
      "text/plain": [
       "    year  month       rtn\n",
       "0   2006      6 -0.069074\n",
       "1   2006     12  0.187054\n",
       "2   2007      6 -0.136348\n",
       "3   2007     12  0.160272\n",
       "4   2008      6 -0.070539\n",
       "5   2008     12  0.173152\n",
       "6   2009      6 -0.050639\n",
       "7   2009     12  0.228852\n",
       "8   2010      6 -0.076706\n",
       "9   2010     12  0.202073\n",
       "10  2011      6 -0.089194\n",
       "11  2011     12  0.195149\n",
       "12  2012      6 -0.073984\n",
       "13  2012     12  0.235726\n",
       "14  2013      6 -0.077497\n",
       "15  2013     12  0.221574\n",
       "16  2014      6 -0.114865\n",
       "17  2014     12  0.219845\n",
       "18  2015      6 -0.060082\n",
       "19  2015     12  0.156436\n",
       "20  2016      6 -0.108886\n",
       "21  2016     12  0.165124"
      ],
      "text/html": "<div>\n<style scoped>\n    .dataframe tbody tr th:only-of-type {\n        vertical-align: middle;\n    }\n\n    .dataframe tbody tr th {\n        vertical-align: top;\n    }\n\n    .dataframe thead th {\n        text-align: right;\n    }\n</style>\n<table border=\"1\" class=\"dataframe\">\n  <thead>\n    <tr style=\"text-align: right;\">\n      <th></th>\n      <th>year</th>\n      <th>month</th>\n      <th>rtn</th>\n    </tr>\n  </thead>\n  <tbody>\n    <tr>\n      <th>0</th>\n      <td>2006</td>\n      <td>6</td>\n      <td>-0.069074</td>\n    </tr>\n    <tr>\n      <th>1</th>\n      <td>2006</td>\n      <td>12</td>\n      <td>0.187054</td>\n    </tr>\n    <tr>\n      <th>2</th>\n      <td>2007</td>\n      <td>6</td>\n      <td>-0.136348</td>\n    </tr>\n    <tr>\n      <th>3</th>\n      <td>2007</td>\n      <td>12</td>\n      <td>0.160272</td>\n    </tr>\n    <tr>\n      <th>4</th>\n      <td>2008</td>\n      <td>6</td>\n      <td>-0.070539</td>\n    </tr>\n    <tr>\n      <th>5</th>\n      <td>2008</td>\n      <td>12</td>\n      <td>0.173152</td>\n    </tr>\n    <tr>\n      <th>6</th>\n      <td>2009</td>\n      <td>6</td>\n      <td>-0.050639</td>\n    </tr>\n    <tr>\n      <th>7</th>\n      <td>2009</td>\n      <td>12</td>\n      <td>0.228852</td>\n    </tr>\n    <tr>\n      <th>8</th>\n      <td>2010</td>\n      <td>6</td>\n      <td>-0.076706</td>\n    </tr>\n    <tr>\n      <th>9</th>\n      <td>2010</td>\n      <td>12</td>\n      <td>0.202073</td>\n    </tr>\n    <tr>\n      <th>10</th>\n      <td>2011</td>\n      <td>6</td>\n      <td>-0.089194</td>\n    </tr>\n    <tr>\n      <th>11</th>\n      <td>2011</td>\n      <td>12</td>\n      <td>0.195149</td>\n    </tr>\n    <tr>\n      <th>12</th>\n      <td>2012</td>\n      <td>6</td>\n      <td>-0.073984</td>\n    </tr>\n    <tr>\n      <th>13</th>\n      <td>2012</td>\n      <td>12</td>\n      <td>0.235726</td>\n    </tr>\n    <tr>\n      <th>14</th>\n      <td>2013</td>\n      <td>6</td>\n      <td>-0.077497</td>\n    </tr>\n    <tr>\n      <th>15</th>\n      <td>2013</td>\n      <td>12</td>\n      <td>0.221574</td>\n    </tr>\n    <tr>\n      <th>16</th>\n      <td>2014</td>\n      <td>6</td>\n      <td>-0.114865</td>\n    </tr>\n    <tr>\n      <th>17</th>\n      <td>2014</td>\n      <td>12</td>\n      <td>0.219845</td>\n    </tr>\n    <tr>\n      <th>18</th>\n      <td>2015</td>\n      <td>6</td>\n      <td>-0.060082</td>\n    </tr>\n    <tr>\n      <th>19</th>\n      <td>2015</td>\n      <td>12</td>\n      <td>0.156436</td>\n    </tr>\n    <tr>\n      <th>20</th>\n      <td>2016</td>\n      <td>6</td>\n      <td>-0.108886</td>\n    </tr>\n    <tr>\n      <th>21</th>\n      <td>2016</td>\n      <td>12</td>\n      <td>0.165124</td>\n    </tr>\n  </tbody>\n</table>\n</div>"
     },
     "metadata": {},
     "execution_count": 30
    }
   ],
   "source": [
    "import pandas as pd \n",
    "import numpy as np \n",
    "year_list = []\n",
    "month_list = []\n",
    "rtn_list = []\n",
    "\n",
    "for year in range(2006, 2017):\n",
    "    for month in [6, 12]:\n",
    "        year_list.append(year)\n",
    "        month_list.append(month)\n",
    "        rtn = round((-1)**(month/6)*(month/6/10), 3) +(np.random.random()-0.5)*0.1\n",
    "        rtn_list.append(rtn)\n",
    "\n",
    "df = pd.DataFrame()\n",
    "df['year'] = year_list\n",
    "df['month'] = month_list\n",
    "df['rtn'] = rtn_list\n",
    "\n",
    "df"
   ]
  },
  {
   "cell_type": "code",
   "execution_count": 31,
   "metadata": {},
   "outputs": [
    {
     "output_type": "execute_result",
     "data": {
      "text/plain": [
       "0.538"
      ]
     },
     "metadata": {},
     "execution_count": 31
    }
   ],
   "source": [
    "sr1 = round(df['rtn'].mean()/df['rtn'].std()*np.sqrt(2), 3)\n",
    "sr1"
   ]
  },
  {
   "cell_type": "code",
   "execution_count": 32,
   "metadata": {},
   "outputs": [
    {
     "output_type": "execute_result",
     "data": {
      "text/plain": [
       "           rtn\n",
       "year          \n",
       "2006  0.117980\n",
       "2007  0.023924\n",
       "2008  0.102613\n",
       "2009  0.178212\n",
       "2010  0.125366\n",
       "2011  0.105954\n",
       "2012  0.161742\n",
       "2013  0.144077\n",
       "2014  0.104981\n",
       "2015  0.096354\n",
       "2016  0.056237"
      ],
      "text/html": "<div>\n<style scoped>\n    .dataframe tbody tr th:only-of-type {\n        vertical-align: middle;\n    }\n\n    .dataframe tbody tr th {\n        vertical-align: top;\n    }\n\n    .dataframe thead th {\n        text-align: right;\n    }\n</style>\n<table border=\"1\" class=\"dataframe\">\n  <thead>\n    <tr style=\"text-align: right;\">\n      <th></th>\n      <th>rtn</th>\n    </tr>\n    <tr>\n      <th>year</th>\n      <th></th>\n    </tr>\n  </thead>\n  <tbody>\n    <tr>\n      <th>2006</th>\n      <td>0.117980</td>\n    </tr>\n    <tr>\n      <th>2007</th>\n      <td>0.023924</td>\n    </tr>\n    <tr>\n      <th>2008</th>\n      <td>0.102613</td>\n    </tr>\n    <tr>\n      <th>2009</th>\n      <td>0.178212</td>\n    </tr>\n    <tr>\n      <th>2010</th>\n      <td>0.125366</td>\n    </tr>\n    <tr>\n      <th>2011</th>\n      <td>0.105954</td>\n    </tr>\n    <tr>\n      <th>2012</th>\n      <td>0.161742</td>\n    </tr>\n    <tr>\n      <th>2013</th>\n      <td>0.144077</td>\n    </tr>\n    <tr>\n      <th>2014</th>\n      <td>0.104981</td>\n    </tr>\n    <tr>\n      <th>2015</th>\n      <td>0.096354</td>\n    </tr>\n    <tr>\n      <th>2016</th>\n      <td>0.056237</td>\n    </tr>\n  </tbody>\n</table>\n</div>"
     },
     "metadata": {},
     "execution_count": 32
    }
   ],
   "source": [
    "df_year= df.groupby(['year']).sum()\n",
    "del df_year['month']\n",
    "df_year"
   ]
  },
  {
   "cell_type": "code",
   "execution_count": 33,
   "metadata": {},
   "outputs": [
    {
     "output_type": "execute_result",
     "data": {
      "text/plain": [
       "2.515"
      ]
     },
     "metadata": {},
     "execution_count": 33
    }
   ],
   "source": [
    "sr2 = round(df_year['rtn'].mean()/df_year['rtn'].std(), 3)\n",
    "sr2"
   ]
  }
 ]
}