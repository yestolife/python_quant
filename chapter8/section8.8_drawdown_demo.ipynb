{
 "metadata": {
  "language_info": {
   "codemirror_mode": {
    "name": "ipython",
    "version": 3
   },
   "file_extension": ".py",
   "mimetype": "text/x-python",
   "name": "python",
   "nbconvert_exporter": "python",
   "pygments_lexer": "ipython3",
   "version": "3.8.5-final"
  },
  "orig_nbformat": 2,
  "kernelspec": {
   "name": "python3",
   "display_name": "Python 3.8.5 64-bit (conda)",
   "metadata": {
    "interpreter": {
     "hash": "ab2c6effcff14de217321fbbb614bff3794ce5785c4964fdaa7bfe00a73c95ca"
    }
   }
  }
 },
 "nbformat": 4,
 "nbformat_minor": 2,
 "cells": [
  {
   "cell_type": "code",
   "execution_count": 1,
   "metadata": {},
   "outputs": [
    {
     "output_type": "stream",
     "name": "stdout",
     "text": [
      "本接口即将停止更新，请尽快使用Pro版接口：https://waditu.com/document/2\n"
     ]
    },
    {
     "output_type": "execute_result",
     "data": {
      "text/plain": [
       "               date     open    close     high      low     volume amount  \\\n",
       "0  2021-03-02 13:45  5322.67  5327.61  5336.99  5322.30  2462538.0     {}   \n",
       "1  2021-03-02 13:50  5327.01  5318.99  5327.01  5318.88  3741203.0     {}   \n",
       "2  2021-03-02 13:55  5318.86  5314.17  5327.44  5314.17  3154043.0     {}   \n",
       "3  2021-03-02 14:00  5315.05  5306.37  5320.57  5306.37  3759643.0     {}   \n",
       "4  2021-03-02 14:05  5305.72  5309.62  5312.62  5305.19  3304517.0     {}   \n",
       "\n",
       "  turnoverratio    code  \n",
       "0        0.0000  399300  \n",
       "1        0.0000  399300  \n",
       "2        0.0000  399300  \n",
       "3        0.0000  399300  \n",
       "4        0.0000  399300  "
      ],
      "text/html": "<div>\n<style scoped>\n    .dataframe tbody tr th:only-of-type {\n        vertical-align: middle;\n    }\n\n    .dataframe tbody tr th {\n        vertical-align: top;\n    }\n\n    .dataframe thead th {\n        text-align: right;\n    }\n</style>\n<table border=\"1\" class=\"dataframe\">\n  <thead>\n    <tr style=\"text-align: right;\">\n      <th></th>\n      <th>date</th>\n      <th>open</th>\n      <th>close</th>\n      <th>high</th>\n      <th>low</th>\n      <th>volume</th>\n      <th>amount</th>\n      <th>turnoverratio</th>\n      <th>code</th>\n    </tr>\n  </thead>\n  <tbody>\n    <tr>\n      <th>0</th>\n      <td>2021-03-02 13:45</td>\n      <td>5322.67</td>\n      <td>5327.61</td>\n      <td>5336.99</td>\n      <td>5322.30</td>\n      <td>2462538.0</td>\n      <td>{}</td>\n      <td>0.0000</td>\n      <td>399300</td>\n    </tr>\n    <tr>\n      <th>1</th>\n      <td>2021-03-02 13:50</td>\n      <td>5327.01</td>\n      <td>5318.99</td>\n      <td>5327.01</td>\n      <td>5318.88</td>\n      <td>3741203.0</td>\n      <td>{}</td>\n      <td>0.0000</td>\n      <td>399300</td>\n    </tr>\n    <tr>\n      <th>2</th>\n      <td>2021-03-02 13:55</td>\n      <td>5318.86</td>\n      <td>5314.17</td>\n      <td>5327.44</td>\n      <td>5314.17</td>\n      <td>3154043.0</td>\n      <td>{}</td>\n      <td>0.0000</td>\n      <td>399300</td>\n    </tr>\n    <tr>\n      <th>3</th>\n      <td>2021-03-02 14:00</td>\n      <td>5315.05</td>\n      <td>5306.37</td>\n      <td>5320.57</td>\n      <td>5306.37</td>\n      <td>3759643.0</td>\n      <td>{}</td>\n      <td>0.0000</td>\n      <td>399300</td>\n    </tr>\n    <tr>\n      <th>4</th>\n      <td>2021-03-02 14:05</td>\n      <td>5305.72</td>\n      <td>5309.62</td>\n      <td>5312.62</td>\n      <td>5305.19</td>\n      <td>3304517.0</td>\n      <td>{}</td>\n      <td>0.0000</td>\n      <td>399300</td>\n    </tr>\n  </tbody>\n</table>\n</div>"
     },
     "metadata": {},
     "execution_count": 1
    }
   ],
   "source": [
    "import tushare as ts \n",
    "df = ts.get_k_data('399300',ktype='5')\n",
    "df.head()"
   ]
  },
  {
   "cell_type": "code",
   "execution_count": 3,
   "metadata": {},
   "outputs": [
    {
     "output_type": "execute_result",
     "data": {
      "text/plain": [
       "0.09802839116719242"
      ]
     },
     "metadata": {},
     "execution_count": 3
    }
   ],
   "source": [
    "max_c = 0\n",
    "for idx, row in df.iterrows():\n",
    "    max_c = max(row['high'], max_c)\n",
    "    df.loc[idx, 'max_c'] = max_c\n",
    "\n",
    "df['max_dd'] = df['low'] / df['max_c'] - 1\n",
    "\n",
    "max_dd = abs(df['max_dd'].min())\n",
    "\n",
    "max_dd"
   ]
  }
 ]
}