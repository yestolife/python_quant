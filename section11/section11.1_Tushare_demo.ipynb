{
 "metadata": {
  "language_info": {
   "codemirror_mode": {
    "name": "ipython",
    "version": 3
   },
   "file_extension": ".py",
   "mimetype": "text/x-python",
   "name": "python",
   "nbconvert_exporter": "python",
   "pygments_lexer": "ipython3",
   "version": "3.8.5-final"
  },
  "orig_nbformat": 2,
  "kernelspec": {
   "name": "python3",
   "display_name": "Python 3.8.5 64-bit (conda)",
   "metadata": {
    "interpreter": {
     "hash": "ab2c6effcff14de217321fbbb614bff3794ce5785c4964fdaa7bfe00a73c95ca"
    }
   }
  }
 },
 "nbformat": 4,
 "nbformat_minor": 2,
 "cells": [
  {
   "cell_type": "code",
   "execution_count": 25,
   "metadata": {},
   "outputs": [
    {
     "output_type": "execute_result",
     "data": {
      "text/plain": [
       "    trade_date exchange exchange_pair  ts_pair\n",
       "0     20190101    huobi       btcusdt  btcusdt\n",
       "1     20190101    huobi       bchusdt  bchusdt\n",
       "2     20190101    huobi       ethusdt  ethusdt\n",
       "3     20190101    huobi       etcusdt  etcusdt\n",
       "4     20190101    huobi       ltcusdt  ltcusdt\n",
       "..         ...      ...           ...      ...\n",
       "413   20190101    huobi       covabtc  covabtc\n",
       "414   20190101    huobi       zrxusdt  zrxusdt\n",
       "415   20190101    huobi       lambbtc  lambbtc\n",
       "416   20190101    huobi       lambeth  lambeth\n",
       "417   20190101    huobi       dcrusdt  dcrusdt\n",
       "\n",
       "[418 rows x 4 columns]"
      ],
      "text/html": "<div>\n<style scoped>\n    .dataframe tbody tr th:only-of-type {\n        vertical-align: middle;\n    }\n\n    .dataframe tbody tr th {\n        vertical-align: top;\n    }\n\n    .dataframe thead th {\n        text-align: right;\n    }\n</style>\n<table border=\"1\" class=\"dataframe\">\n  <thead>\n    <tr style=\"text-align: right;\">\n      <th></th>\n      <th>trade_date</th>\n      <th>exchange</th>\n      <th>exchange_pair</th>\n      <th>ts_pair</th>\n    </tr>\n  </thead>\n  <tbody>\n    <tr>\n      <th>0</th>\n      <td>20190101</td>\n      <td>huobi</td>\n      <td>btcusdt</td>\n      <td>btcusdt</td>\n    </tr>\n    <tr>\n      <th>1</th>\n      <td>20190101</td>\n      <td>huobi</td>\n      <td>bchusdt</td>\n      <td>bchusdt</td>\n    </tr>\n    <tr>\n      <th>2</th>\n      <td>20190101</td>\n      <td>huobi</td>\n      <td>ethusdt</td>\n      <td>ethusdt</td>\n    </tr>\n    <tr>\n      <th>3</th>\n      <td>20190101</td>\n      <td>huobi</td>\n      <td>etcusdt</td>\n      <td>etcusdt</td>\n    </tr>\n    <tr>\n      <th>4</th>\n      <td>20190101</td>\n      <td>huobi</td>\n      <td>ltcusdt</td>\n      <td>ltcusdt</td>\n    </tr>\n    <tr>\n      <th>...</th>\n      <td>...</td>\n      <td>...</td>\n      <td>...</td>\n      <td>...</td>\n    </tr>\n    <tr>\n      <th>413</th>\n      <td>20190101</td>\n      <td>huobi</td>\n      <td>covabtc</td>\n      <td>covabtc</td>\n    </tr>\n    <tr>\n      <th>414</th>\n      <td>20190101</td>\n      <td>huobi</td>\n      <td>zrxusdt</td>\n      <td>zrxusdt</td>\n    </tr>\n    <tr>\n      <th>415</th>\n      <td>20190101</td>\n      <td>huobi</td>\n      <td>lambbtc</td>\n      <td>lambbtc</td>\n    </tr>\n    <tr>\n      <th>416</th>\n      <td>20190101</td>\n      <td>huobi</td>\n      <td>lambeth</td>\n      <td>lambeth</td>\n    </tr>\n    <tr>\n      <th>417</th>\n      <td>20190101</td>\n      <td>huobi</td>\n      <td>dcrusdt</td>\n      <td>dcrusdt</td>\n    </tr>\n  </tbody>\n</table>\n<p>418 rows × 4 columns</p>\n</div>"
     },
     "metadata": {},
     "execution_count": 25
    }
   ],
   "source": [
    "import tushare as ts \n",
    "pro = ts.pro_api()\n",
    "# df = pro.query('trade_cal', exchange='', start_date = '20180901', end_date = '20181001', fields = 'exchange, cal_date, is_open, pretrade_date', is_open = '0')\n",
    "df = pro.coinpair(exchange='huobi', trade_date='20190101')\n",
    "df"
   ]
  }
 ]
}