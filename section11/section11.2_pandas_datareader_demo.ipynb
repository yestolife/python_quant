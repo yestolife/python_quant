{
 "metadata": {
  "language_info": {
   "codemirror_mode": {
    "name": "ipython",
    "version": 3
   },
   "file_extension": ".py",
   "mimetype": "text/x-python",
   "name": "python",
   "nbconvert_exporter": "python",
   "pygments_lexer": "ipython3",
   "version": "3.8.5"
  },
  "orig_nbformat": 2,
  "kernelspec": {
   "name": "python3",
   "display_name": "Python 3.8.5 64-bit ('base': conda)",
   "metadata": {
    "interpreter": {
     "hash": "ab2c6effcff14de217321fbbb614bff3794ce5785c4964fdaa7bfe00a73c95ca"
    }
   }
  }
 },
 "nbformat": 4,
 "nbformat_minor": 2,
 "cells": [
  {
   "cell_type": "code",
   "execution_count": 4,
   "metadata": {},
   "outputs": [
    {
     "output_type": "execute_result",
     "data": {
      "text/plain": [
       "             High    Low   Open  Close       Volume  Adj Close\n",
       "Date                                                          \n",
       "2009-12-31  10.06   9.92  10.04  10.00   31253700.0   6.778744\n",
       "2010-01-04  10.28  10.05  10.17  10.28   60855800.0   6.968545\n",
       "2010-01-05  11.24  10.40  10.45  10.96  215620200.0   7.429503\n",
       "2010-01-06  11.46  11.13  11.21  11.37  200070600.0   7.707428\n",
       "2010-01-07  11.69  11.32  11.46  11.66  130201700.0   7.904015"
      ],
      "text/html": "<div>\n<style scoped>\n    .dataframe tbody tr th:only-of-type {\n        vertical-align: middle;\n    }\n\n    .dataframe tbody tr th {\n        vertical-align: top;\n    }\n\n    .dataframe thead th {\n        text-align: right;\n    }\n</style>\n<table border=\"1\" class=\"dataframe\">\n  <thead>\n    <tr style=\"text-align: right;\">\n      <th></th>\n      <th>High</th>\n      <th>Low</th>\n      <th>Open</th>\n      <th>Close</th>\n      <th>Volume</th>\n      <th>Adj Close</th>\n    </tr>\n    <tr>\n      <th>Date</th>\n      <th></th>\n      <th></th>\n      <th></th>\n      <th></th>\n      <th></th>\n      <th></th>\n    </tr>\n  </thead>\n  <tbody>\n    <tr>\n      <th>2009-12-31</th>\n      <td>10.06</td>\n      <td>9.92</td>\n      <td>10.04</td>\n      <td>10.00</td>\n      <td>31253700.0</td>\n      <td>6.778744</td>\n    </tr>\n    <tr>\n      <th>2010-01-04</th>\n      <td>10.28</td>\n      <td>10.05</td>\n      <td>10.17</td>\n      <td>10.28</td>\n      <td>60855800.0</td>\n      <td>6.968545</td>\n    </tr>\n    <tr>\n      <th>2010-01-05</th>\n      <td>11.24</td>\n      <td>10.40</td>\n      <td>10.45</td>\n      <td>10.96</td>\n      <td>215620200.0</td>\n      <td>7.429503</td>\n    </tr>\n    <tr>\n      <th>2010-01-06</th>\n      <td>11.46</td>\n      <td>11.13</td>\n      <td>11.21</td>\n      <td>11.37</td>\n      <td>200070600.0</td>\n      <td>7.707428</td>\n    </tr>\n    <tr>\n      <th>2010-01-07</th>\n      <td>11.69</td>\n      <td>11.32</td>\n      <td>11.46</td>\n      <td>11.66</td>\n      <td>130201700.0</td>\n      <td>7.904015</td>\n    </tr>\n  </tbody>\n</table>\n</div>"
     },
     "metadata": {},
     "execution_count": 4
    }
   ],
   "source": [
    "import pandas_datareader.data as web\n",
    "import datetime \n",
    "start = datetime.datetime(2010, 1, 1)\n",
    "end = datetime.datetime(2015, 5, 9)\n",
    "\n",
    "df = web.DataReader('F', 'yahoo', start, end)\n",
    "df.head()"
   ]
  },
  {
   "cell_type": "code",
   "execution_count": 6,
   "metadata": {},
   "outputs": [
    {
     "output_type": "execute_result",
     "data": {
      "text/plain": [
       "                        id                                               name\n",
       "9069        NE.GDI.FTOT.CR  GDP expenditure on gross fixed capital formati...\n",
       "9076  NE.GDI.FTOT.SNA08.CR  GDP expenditure on gross fixed capital formati..."
      ],
      "text/html": "<div>\n<style scoped>\n    .dataframe tbody tr th:only-of-type {\n        vertical-align: middle;\n    }\n\n    .dataframe tbody tr th {\n        vertical-align: top;\n    }\n\n    .dataframe thead th {\n        text-align: right;\n    }\n</style>\n<table border=\"1\" class=\"dataframe\">\n  <thead>\n    <tr style=\"text-align: right;\">\n      <th></th>\n      <th>id</th>\n      <th>name</th>\n    </tr>\n  </thead>\n  <tbody>\n    <tr>\n      <th>9069</th>\n      <td>NE.GDI.FTOT.CR</td>\n      <td>GDP expenditure on gross fixed capital formati...</td>\n    </tr>\n    <tr>\n      <th>9076</th>\n      <td>NE.GDI.FTOT.SNA08.CR</td>\n      <td>GDP expenditure on gross fixed capital formati...</td>\n    </tr>\n  </tbody>\n</table>\n</div>"
     },
     "metadata": {},
     "execution_count": 6
    }
   ],
   "source": [
    "from pandas_datareader import wb \n",
    "wb.search('gdp.*capital.').iloc[:,:2]"
   ]
  }
 ]
}