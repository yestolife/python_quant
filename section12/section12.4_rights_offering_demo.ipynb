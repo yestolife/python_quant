{
 "metadata": {
  "language_info": {
   "codemirror_mode": {
    "name": "ipython",
    "version": 3
   },
   "file_extension": ".py",
   "mimetype": "text/x-python",
   "name": "python",
   "nbconvert_exporter": "python",
   "pygments_lexer": "ipython3",
   "version": 3
  },
  "orig_nbformat": 2
 },
 "nbformat": 4,
 "nbformat_minor": 2,
 "cells": [
  {
   "cell_type": "code",
   "execution_count": null,
   "metadata": {},
   "outputs": [],
   "source": [
    "def adjust_price_sum(df):\n",
    "    df['close_pre'] = df.close.shift(1)\n",
    "\n",
    "    df['roll_over'] = (df.trade_hiscode != df.trade_hiscode.shift(1)) & (~df.trade_hiscode.shift(1).isnull())\n",
    "\n",
    "    df['adj_factor'] = 0\n",
    "    df.loc[df.roll_over, 'adj_factor'] = df.loc[df.roll_over, 'close_pre'] - df.loc[df.roll_over, 'open']\n",
    "\n",
    "    df['adj_factor_cum '] = df.adj_factor.cumsum()\n",
    "\n",
    "    df['open'] = df.open + df.adj_factor_cum\n",
    "    df['high'] = df.high + df.adj_factor_cum\n",
    "    df['low'] = df.low + df.adj_factor_cum\n",
    "    df['close'] = df.close + df.adj_factor_cum\n",
    "\n",
    "    del df['close_pre']\n",
    "    del df['roll_over']\n",
    "    del df['adj_factor']\n",
    "    del df['adj_factor_cum']\n",
    "\n",
    "    df=df.dropna()\n",
    "\n",
    "    return df"
   ]
  }
 ]
}