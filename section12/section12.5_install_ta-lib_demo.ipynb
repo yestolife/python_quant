{
 "metadata": {
  "language_info": {
   "codemirror_mode": {
    "name": "ipython",
    "version": 3
   },
   "file_extension": ".py",
   "mimetype": "text/x-python",
   "name": "python",
   "nbconvert_exporter": "python",
   "pygments_lexer": "ipython3",
   "version": "3.8.5"
  },
  "orig_nbformat": 2,
  "kernelspec": {
   "name": "python385jvsc74a57bd0ab2c6effcff14de217321fbbb614bff3794ce5785c4964fdaa7bfe00a73c95ca",
   "display_name": "Python 3.8.5 64-bit ('base': conda)"
  }
 },
 "nbformat": 4,
 "nbformat_minor": 2,
 "cells": [
  {
   "source": [
    "ta-lib 安装方法参考：https://zhuanlan.zhihu.com/p/88115372"
   ],
   "cell_type": "markdown",
   "metadata": {}
  },
  {
   "cell_type": "code",
   "execution_count": 1,
   "metadata": {},
   "outputs": [
    {
     "output_type": "execute_result",
     "data": {
      "text/plain": [
       "array([       nan,        nan,        nan,        nan,        nan,\n",
       "              nan,        nan,        nan,        nan,        nan,\n",
       "              nan,        nan,        nan,        nan,        nan,\n",
       "              nan,        nan,        nan,        nan,        nan,\n",
       "              nan,        nan,        nan,        nan,        nan,\n",
       "              nan,        nan,        nan,        nan, 0.5059845 ,\n",
       "       0.51358835, 0.53463493, 0.52236561, 0.50162978, 0.49573524,\n",
       "       0.50137232, 0.52564536, 0.52391817, 0.51476262, 0.52624846,\n",
       "       0.50596352, 0.49086807, 0.48372504, 0.49036248, 0.47838576,\n",
       "       0.48250299, 0.4784144 , 0.47460659, 0.47991908, 0.48695896,\n",
       "       0.49369108, 0.48654648, 0.504199  , 0.4794416 , 0.46928118,\n",
       "       0.45486623, 0.43180004, 0.45861168, 0.47826325, 0.47894834,\n",
       "       0.47825971, 0.46709581, 0.48182395, 0.50726413, 0.52986607,\n",
       "       0.52743832, 0.51835711, 0.51128995, 0.51610359, 0.51071872,\n",
       "       0.50274784, 0.50535702, 0.50047551, 0.48910539, 0.49329779,\n",
       "       0.5014098 , 0.51531924, 0.53776131, 0.53736678, 0.52772213,\n",
       "       0.52330475, 0.53984234, 0.51964681, 0.52785238, 0.51617667,\n",
       "       0.51680553, 0.52660188, 0.51701695, 0.50192947, 0.51305579,\n",
       "       0.51982031, 0.51779746, 0.4989288 , 0.50141121, 0.48365007,\n",
       "       0.49166431, 0.49965997, 0.51513387, 0.49707884, 0.48991384])"
      ]
     },
     "metadata": {},
     "execution_count": 1
    }
   ],
   "source": [
    "import talib\n",
    "import numpy \n",
    "close = numpy.random.random(100)\n",
    "output = talib.SMA(close)\n",
    "output"
   ]
  }
 ]
}